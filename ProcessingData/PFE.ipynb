{
 "cells": [
  {
   "cell_type": "markdown",
   "metadata": {
    "application/vnd.databricks.v1+cell": {
     "cellMetadata": {
      "byteLimit": 2048000,
      "rowLimit": 10000
     },
     "inputWidgets": {},
     "nuid": "7915da64-74fd-4409-82b0-35d105470627",
     "showTitle": false,
     "title": ""
    }
   },
   "source": [
    "#1) Scrap Data"
   ]
  },
  {
   "cell_type": "code",
   "execution_count": 0,
   "metadata": {
    "application/vnd.databricks.v1+cell": {
     "cellMetadata": {
      "byteLimit": 2048000,
      "rowLimit": 10000
     },
     "inputWidgets": {},
     "nuid": "b3057b51-cc38-48dd-b6f5-319491a25916",
     "showTitle": false,
     "title": ""
    }
   },
   "outputs": [
    {
     "output_type": "stream",
     "name": "stdout",
     "output_type": "stream",
     "text": [
      "/mnt/adls has been unmounted.\nPremières lignes du DataFrame :\n        id                        intitule                                                                                                                                                                                                                                                                                                                                                                                                                                                                                                                                                                                                                                                                                                                  description              dateCreation         dateActualisation romeCode                                            romeLibelle                                            appellationlibelle typeContrat typeContratLibelle    natureContrat experienceExige experienceLibelle dureeTravailLibelle dureeTravailLibelleConverti  alternance  accessibleTH  qualificationCode      qualificationLibelle codeNAF  secteurActivite                       secteurActiviteLibelle  offresManqueCandidats         lieuTravail.libelle  lieuTravail.latitude  lieuTravail.longitude  lieuTravail.codePostal  lieuTravail.commune    entreprise.nom  entreprise.entrepriseAdaptee                                        salaire.libelle                                                              contact.coordonnees1                                                            contact.urlPostulation  origineOffre.origine                                            origineOffre.urlOrigine competences qualitesProfessionnelles contact.nom contact.courriel permis deplacementLibelle langues filtre agregation\n0  179TRWT         Opérateur régleur (H/F)  L'agence PARTNAIRE Chantonnay accompagne une société spécialiste de la conception et la fabrication de machines pour l'entretien des sols et jardins, dans son recrutement :\\n\\nRégleur Formateur Tôlerie (H/F)\\n\\nAu sein de l'atelier votre mission est de \\n\\n- Suivre la production suivant le planning établi\\n- Régler et programmer les machines du secteur tôlerie\\n- Rendre compte au responsable secteur chaudronnerie des aléas et problèmes rencontrés\\n- Former le personnel individuellement sur les machines de production du secteur tôlerie\\n- Réaliser ponctuellement des opérations sur les machines de production du secteur tôlerie\\n\\nDu lundi au vendredi : 8h00 - 12h00 et 12h45 - 16h33\\n\\nPoss...  2024-08-22T04:34:11.132Z  2024-08-22T04:34:11.343Z    H2903                Tourneur-fraiseur / Tourneuse-fraiseuse  Opérateur régleur / Opératrice régleuse sur centre d'usinage         CDI                CDI  Contrat travail               D  Débutant accepté                 35H                 Temps plein         0.0           0.0                6.0          Employé qualifié  78.20Z             78.0  Activités des agences de travail temporaire                    0.0             85 - Chantonnay             46.670782              -1.051061                 85110.0              85051.0  GROUPE PARTNAIRE                           0.0      Horaire de 11.65 Euros à 12.0 Euros sur 12.0 mois  http://app.mytalentplug.com/description-offre.aspx?ojid=hYTjwumNgz3Yog/4h9Zo3Q==  http://app.mytalentplug.com/description-offre.aspx?ojid=hYTjwumNgz3Yog/4h9Zo3Q==                   1.0  https://candidat.francetravail.fr/offres/recherche/detail/179TRWT         NaN                      NaN         NaN              NaN    NaN                NaN     NaN    NaN        NaN\n1  179TRWR                  Plombier (H/F)  Notre client est le leader européen indépendant pure-player des services multi-techniques dans les domaines de l'énergie et des communications.\\n\\nIl participe activement à la lutte contre le changement climatique et adapter les espaces de vie pour gagner le pari d'une transition énergétique et d'une transformation numérique responsable qui soient synonymes de progrès durable pour chaque citoyen.\\n\\nNous recherchons un plombier (H/F) sur le secteur de Nancy pour divers chantier sur les environs.\\n\\nAu quotidien vous serez en charge de la pose de supportage, du tirage de tubes, de soudure, de raccordements ainsi que divers tâche de plomberie et de manutention.\\n\\nPoste de journée\\n\\nTaux ...  2024-08-22T04:34:02.085Z  2024-08-22T04:34:02.362Z    F1603                                   Plombier / Plombière                                          Plombier / Plombière         MIS   Intérim - 1 Mois  Contrat travail               D  Débutant accepté                 35H                 Temps plein         0.0           0.0                3.0  Ouvrier qualifié (P1,P2)  78.20Z             78.0  Activités des agences de travail temporaire                    0.0   54 - Dombasle-sur-Meurthe             48.618560               6.357780                 54110.0              54159.0         PARTNAIRE                           0.0      Horaire de 11.65 Euros à 13.0 Euros sur 12.0 mois  http://app.mytalentplug.com/description-offre.aspx?ojid=9k52ZTvNT5JTX9Ypg67zyA==  http://app.mytalentplug.com/description-offre.aspx?ojid=9k52ZTvNT5JTX9Ypg67zyA==                   1.0  https://candidat.francetravail.fr/offres/recherche/detail/179TRWR         NaN                      NaN         NaN              NaN    NaN                NaN     NaN    NaN        NaN\n2  179TRWQ      Agent de maintenance (H/F)  Notre client sur le secteur du Neubourg est une entreprise familiale française existante depuis plus de 70 ans.\\nL'entreprise fabrique des pièces en béton destinées aux grossistes.\\n\\nVotre agence Partnaire de Louviers recrute un agent de maintenance (F/H), \\n\\nVos missions sont :\\n- Régler et entretenir les ensembles des éléments (type moules).\\n- Assurer le dépannage rapide des machines de production.\\n- Remettre en service après essai et vérification.\\n- Consigner les activités effectuées et les conséquences en actualisant les dossiers.\\n- Réaliser à la demande de son supérieur des modifications sur le matériel existant.\\n- Détecter les dysfonctionnements.\\n- Assurer un diagnostic et ...  2024-08-22T04:33:55.004Z  2024-08-22T04:33:55.225Z    I1304  Technicien / Technicienne de maintenance industrielle                    Agent / Agente de maintenance industrielle         MIS   Intérim - 4 Mois  Contrat travail               E           1 An(s)                 35H                 Temps plein         0.0           0.0                7.0                Technicien  78.20Z             78.0  Activités des agences de travail temporaire                    0.0                27 - Marbeuf             49.153251               0.966071                 27110.0              27389.0         PARTNAIRE                           0.0  Annuel de 25000.0 Euros à 35000.0 Euros sur 12.0 mois  http://app.mytalentplug.com/description-offre.aspx?ojid=prwV6tyKONRxy08hfRAxvQ==  http://app.mytalentplug.com/description-offre.aspx?ojid=prwV6tyKONRxy08hfRAxvQ==                   1.0  https://candidat.francetravail.fr/offres/recherche/detail/179TRWQ         NaN                      NaN         NaN              NaN    NaN                NaN     NaN    NaN        NaN\n3  179TRWN  Préparateur de commandes (H/F)  Votre agence PARTNAIRE CHANTONNAY, accompagne une entreprise basée à STE HERMINE, spécialiste des pains et viennoiseries  : pains ambiants ou surgelés, standards ou spéciaux,  dans le recrutement de ses préparateurs de  commande (H/F)\\n\\nRattaché(e) au chef d'équipe, le préparateur de commande prépare les commandes de produits finis à expédier :\\n\\n* constitue les palettes comme indiqué sur son terminal de préparation\\n* intègre les spécificités de certains clients dans la préparation de leurs commandes (séparation des produits par des intercalaires, séparation des produits par des palettes, disposition les bandes de garantie sur les palettes)\\n* réapprovisionne les emplacements dédiés a...  2024-08-22T04:33:10.351Z  2024-08-22T04:33:10.582Z    N1103                Préparateur / Préparatrice de commandes                       Préparateur / Préparatrice de commandes         MIS   Intérim - 6 Mois  Contrat travail               D  Débutant accepté                 35H                 Temps plein         0.0           0.0                3.0  Ouvrier qualifié (P1,P2)  78.20Z             78.0  Activités des agences de travail temporaire                    0.0  85 - Saint-Aubin-la-Plaine             46.505581              -1.059879                 85210.0              85199.0  GROUPE PARTNAIRE                           0.0     Horaire de 11.65 Euros à 11.65 Euros sur 12.0 mois  http://app.mytalentplug.com/description-offre.aspx?ojid=ponsFKzUSDbCvGlBIePmqw==  http://app.mytalentplug.com/description-offre.aspx?ojid=ponsFKzUSDbCvGlBIePmqw==                   1.0  https://candidat.francetravail.fr/offres/recherche/detail/179TRWN         NaN                      NaN         NaN              NaN    NaN                NaN     NaN    NaN        NaN\n4  179TRWM                 Menuisier (H/F)  Votre agence Partnaire CAVAILLON, reconnue par ses clients pour sa qualité du service et soucieuse de la fidélisation de ses intérimaires, recherche pour son client un menuisier fabricant bois (H/F) pour son client basé sur la commune de Saint-Andiol. \\n\\nVous souhaitez rejoindre une entreprise spécialisée dans le domaine de la menuiserie bois intérieure, l'agencement et le mobilier sur mesure pour les professionnels.\\n\\nVous travaillerez au sein de l'atelier.\\n\\n\\nVos missions sont: \\n\\n-  Réaliser un plan de fabrication et d'installation\\n-  Fabriquer les éléments de menuiserie en bois et panneaux dérivés manuellement ou a l'aide de machines (découpe, assemblage, montage)\\n- Utiliser d...  2024-08-22T04:31:13.574Z  2024-08-22T04:31:13.793Z    H2202            Conducteur / Conductrice de machines à bois                   Menuisier / Menuisière en industrie du bois         MIS   Intérim - 3 Mois  Contrat travail               E           1 An(s)                 35H                 Temps plein         0.0           0.0                6.0          Employé qualifié  78.20Z             78.0  Activités des agences de travail temporaire                    0.0           13 - Saint-Andiol             43.833076               4.947506                 13670.0              13089.0         PARTNAIRE                           0.0      Horaire de 11.65 Euros à 14.0 Euros sur 12.0 mois  http://app.mytalentplug.com/description-offre.aspx?ojid=Sjs006MakOTWW++34NvtKg==  http://app.mytalentplug.com/description-offre.aspx?ojid=Sjs006MakOTWW++34NvtKg==                   1.0  https://candidat.francetravail.fr/offres/recherche/detail/179TRWM         NaN                      NaN         NaN              NaN    NaN                NaN     NaN    NaN        NaN\n\nInformations générales sur le DataFrame :\n<class 'pandas.core.frame.DataFrame'>\nRangeIndex: 154 entries, 0 to 153\nData columns (total 44 columns):\n #   Column                        Non-Null Count  Dtype  \n---  ------                        --------------  -----  \n 0   id                            150 non-null    object \n 1   intitule                      150 non-null    object \n 2   description                   150 non-null    object \n 3   dateCreation                  150 non-null    object \n 4   dateActualisation             150 non-null    object \n 5   romeCode                      150 non-null    object \n 6   romeLibelle                   150 non-null    object \n 7   appellationlibelle            150 non-null    object \n 8   typeContrat                   150 non-null    object \n 9   typeContratLibelle            150 non-null    object \n 10  natureContrat                 150 non-null    object \n 11  experienceExige               150 non-null    object \n 12  experienceLibelle             150 non-null    object \n 13  dureeTravailLibelle           150 non-null    object \n 14  dureeTravailLibelleConverti   150 non-null    object \n 15  alternance                    150 non-null    float64\n 16  accessibleTH                  150 non-null    float64\n 17  qualificationCode             150 non-null    float64\n 18  qualificationLibelle          150 non-null    object \n 19  codeNAF                       150 non-null    object \n 20  secteurActivite               150 non-null    float64\n 21  secteurActiviteLibelle        150 non-null    object \n 22  offresManqueCandidats         150 non-null    float64\n 23  lieuTravail.libelle           150 non-null    object \n 24  lieuTravail.latitude          150 non-null    float64\n 25  lieuTravail.longitude         150 non-null    float64\n 26  lieuTravail.codePostal        150 non-null    float64\n 27  lieuTravail.commune           150 non-null    float64\n 28  entreprise.nom                150 non-null    object \n 29  entreprise.entrepriseAdaptee  150 non-null    float64\n 30  salaire.libelle               150 non-null    object \n 31  contact.coordonnees1          150 non-null    object \n 32  contact.urlPostulation        149 non-null    object \n 33  origineOffre.origine          150 non-null    float64\n 34  origineOffre.urlOrigine       150 non-null    object \n 35  competences                   1 non-null      object \n 36  qualitesProfessionnelles      1 non-null      object \n 37  contact.nom                   1 non-null      object \n 38  contact.courriel              1 non-null      object \n 39  permis                        5 non-null      object \n 40  deplacementLibelle            3 non-null      object \n 41  langues                       1 non-null      object \n 42  filtre                        4 non-null      object \n 43  agregation                    4 non-null      object \ndtypes: float64(11), object(33)\nmemory usage: 53.1+ KB\nNone\n\nStatistiques descriptives :\n             id           intitule                                                                                                                                                                                                                                                                                                                                                                                                                                                                                                                                                                                                                                                                                                                  description              dateCreation         dateActualisation romeCode                                            romeLibelle                     appellationlibelle typeContrat typeContratLibelle    natureContrat experienceExige experienceLibelle dureeTravailLibelle dureeTravailLibelleConverti  alternance  accessibleTH  qualificationCode qualificationLibelle codeNAF  secteurActivite                       secteurActiviteLibelle  offresManqueCandidats lieuTravail.libelle  lieuTravail.latitude  lieuTravail.longitude  lieuTravail.codePostal  lieuTravail.commune entreprise.nom  entreprise.entrepriseAdaptee                                     salaire.libelle                                                              contact.coordonnees1                                                            contact.urlPostulation  origineOffre.origine                                            origineOffre.urlOrigine                                                                                                                                                                                                                                                                                                                                                                                                                                                                                competences                                                                                                                                                                                             qualitesProfessionnelles                 contact.nom                                                                                             contact.courriel                                                permis deplacementLibelle                                    langues       filtre                                                                                                                                                                                                                                                                                                                                                                                                                                                                                                                                       agregation\ncount       150                150                                                                                                                                                                                                                                                                                                                                                                                                                                                                                                                                                                                                                                                                                                                          150                       150                       150      150                                                    150                                    150         150                150              150             150               150                 150                         150       150.0         150.0         150.000000                  150     150       150.000000                                          150                  150.0                 150            150.000000             150.000000              150.000000           150.000000            150                         150.0                                                 150                                                                               150                                                                               149                 150.0                                                                150                                                                                                                                                                                                                                                                                                                                                                                                                                                                                          1                                                                                                                                                                                                                    1                           1                                                                                                            1                                                     5                  3                                          1            4                                                                                                                                                                                                                                                                                                                                                                                                                                                                                                                                                4\nunique      150                114                                                                                                                                                                                                                                                                                                                                                                                                                                                                                                                                                                                                                                                                                                                          150                       150                       150       82                                                     82                                    125           3                 17                1               2                 6                   7                           2         NaN           NaN                NaN                    8       3              NaN                                            3                    NaN                 132                   NaN                    NaN                     NaN                  NaN             24                           NaN                                                  46                                                                               150                                                                               149                   NaN                                                                150                                                                                                                                                                                                                                                                                                                                                                                                                                                                                          1                                                                                                                                                                                                                    1                           1                                                                                                            1                                                     2                  2                                          1            4                                                                                                                                                                                                                                                                                                                                                                                                                                                                                                                                                4\ntop     179TRWT  Électricien (H/F)  L'agence PARTNAIRE Chantonnay accompagne une société spécialiste de la conception et la fabrication de machines pour l'entretien des sols et jardins, dans son recrutement :\\n\\nRégleur Formateur Tôlerie (H/F)\\n\\nAu sein de l'atelier votre mission est de \\n\\n- Suivre la production suivant le planning établi\\n- Régler et programmer les machines du secteur tôlerie\\n- Rendre compte au responsable secteur chaudronnerie des aléas et problèmes rencontrés\\n- Former le personnel individuellement sur les machines de production du secteur tôlerie\\n- Réaliser ponctuellement des opérations sur les machines de production du secteur tôlerie\\n\\nDu lundi au vendredi : 8h00 - 12h00 et 12h45 - 16h33\\n\\nPoss...  2024-08-22T04:34:11.132Z  2024-08-22T04:34:11.343Z    I1304  Technicien / Technicienne de maintenance industrielle  Chauffeur / Chauffeuse de poids lourd         MIS   Intérim - 6 Mois  Contrat travail               E           1 An(s)                 35H                 Temps plein         NaN           NaN                NaN     Employé qualifié  78.20Z              NaN  Activités des agences de travail temporaire                    NaN        85 - Achards                   NaN                    NaN                     NaN                  NaN      PARTNAIRE                           NaN  Horaire de 11.65 Euros à 11.65 Euros sur 12.0 mois  http://app.mytalentplug.com/description-offre.aspx?ojid=hYTjwumNgz3Yog/4h9Zo3Q==  http://app.mytalentplug.com/description-offre.aspx?ojid=hYTjwumNgz3Yog/4h9Zo3Q==                   NaN  https://candidat.francetravail.fr/offres/recherche/detail/179TRWT  [{'code': '102096', 'libelle': \"Règles d'hygiène et de propreté\", 'exigence': 'E'}, {'code': '116932', 'libelle': \"Contrôler l'ét\n\n*** WARNING: max output size exceeded, skipping output. ***\n\nesultats': 21}]\nfreq          1                  6                                                                                                                                                                                                                                                                                                                                                                                                                                                                                                                                                                                                                                                                                                                            1                         1                         1        9                                                      9                                      5         122                 31              150             103                56                 124                         147         NaN           NaN                NaN                   75     148              NaN                                          148                    NaN                   3                   NaN                    NaN                     NaN                  NaN             86                           NaN                                                  17                                                                                 1                                                                                 1                   NaN                                                                  1                                                                                                                                                                                                                                                                                                                                                                                                                                                                                          1                                                                                                                                                                                                                    1                           1                                                                                                            1                                                     4                  2                                          1            1                                                                                                                                                                                                                                                                                                                                                                                                                                                                                                                                                1\nmean        NaN                NaN                                                                                                                                                                                                                                                                                                                                                                                                                                                                                                                                                                                                                                                                                                                          NaN                       NaN                       NaN      NaN                                                    NaN                                    NaN         NaN                NaN              NaN             NaN               NaN                 NaN                         NaN         0.0           0.0           4.820000                  NaN     NaN        77.546667                                          NaN                    0.0                 NaN             47.391660               1.697740            56335.700000         56212.453333            NaN                           0.0                                                 NaN                                                                               NaN                                                                               NaN                   1.0                                                                NaN                                                                                                                                                                                                                                                                                                                                                                                                                                                                                        NaN                                                                                                                                                                                                                  NaN                         NaN                                                                                                          NaN                                                   NaN                NaN                                        NaN          NaN                                                                                                                                                                                                                                                                                                                                                                                                                                                                                                                                              NaN\nstd         NaN                NaN                                                                                                                                                                                                                                                                                                                                                                                                                                                                                                                                                                                                                                                                                                                          NaN                       NaN                       NaN      NaN                                                    NaN                                    NaN         NaN                NaN              NaN             NaN               NaN                 NaN                         NaN         0.0           0.0           1.938899                  NaN     NaN         5.552177                                          NaN                    0.0                 NaN              1.758989               3.138858            25059.874115         25081.219165            NaN                           0.0                                                 NaN                                                                               NaN                                                                               NaN                   0.0                                                                NaN                                                                                                                                                                                                                                                                                                                                                                                                                                                                                        NaN                                                                                                                                                                                                                  NaN                         NaN                                                                                                          NaN                                                   NaN                NaN                                        NaN          NaN                                                                                                                                                                                                                                                                                                                                                                                                                                                                                                                                              NaN\nmin         NaN                NaN                                                                                                                                                                                                                                                                                                                                                                                                                                                                                                                                                                                                                                                                                                                          NaN                       NaN                       NaN      NaN                                                    NaN                                    NaN         NaN                NaN              NaN             NaN               NaN                 NaN                         NaN         0.0           0.0           1.000000                  NaN     NaN        10.000000                                          NaN                    0.0                 NaN             43.163861              -4.093145             1120.000000          1213.000000            NaN                           0.0                                                 NaN                                                                               NaN                                                                               NaN                   1.0                                                                NaN                                                                                                                                                                                                                                                                                                                                                                                                                                                                                        NaN                                                                                                                                                                                                                  NaN                         NaN                                                                                                          NaN                                                   NaN                NaN                                        NaN          NaN                                                                                                                                                                                                                                                                                                                                                                                                                                                                                                                                              NaN\n25%         NaN                NaN                                                                                                                                                                                                                                                                                                                                                                                                                                                                                                                                                                                                                                                                                                                          NaN                       NaN                       NaN      NaN                                                    NaN                                    NaN         NaN                NaN              NaN             NaN               NaN                 NaN                         NaN         0.0           0.0           3.000000                  NaN     NaN        78.000000                                          NaN                    0.0                 NaN             46.588775              -1.199470            39147.500000         39091.250000            NaN                           0.0                                                 NaN                                                                               NaN                                                                               NaN                   1.0                                                                NaN                                                                                                                                                                                                                                                                                                                                                                                                                                                                                        NaN                                                                                                                                                                                                                  NaN                         NaN                                                                                                          NaN                                                   NaN                NaN                                        NaN          NaN                                                                                                                                                                                                                                                                                                                                                                                                                                                                                                                                              NaN\n50%         NaN                NaN                                                                                                                                                                                                                                                                                                                                                                                                                                                                                                                                                                                                                                                                                                                          NaN                       NaN                       NaN      NaN                                                    NaN                                    NaN         NaN                NaN              NaN             NaN               NaN                 NaN                         NaN         0.0           0.0           6.000000                  NaN     NaN        78.000000                                          NaN                    0.0                 NaN             47.572685               2.194130            57000.000000         57293.500000            NaN                           0.0                                                 NaN                                                                               NaN                                                                               NaN                   1.0                                                                NaN                                                                                                                                                                                                                                                                                                                                                                                                                                                                                        NaN                                                                                                                                                                                                                  NaN                         NaN                                                                                                          NaN                                                   NaN                NaN                                        NaN          NaN                                                                                                                                                                                                                                                                                                                                                                                                                                                                                                                                              NaN\n75%         NaN                NaN                                                                                                                                                                                                                                                                                                                                                                                                                                                                                                                                                                                                                                                                                                                          NaN                       NaN                       NaN      NaN                                                    NaN                                    NaN         NaN                NaN              NaN             NaN               NaN                 NaN                         NaN         0.0           0.0           6.000000                  NaN     NaN        78.000000                                          NaN                    0.0                 NaN             48.551913               4.832639            79510.000000         79750.000000            NaN                           0.0                                                 NaN                                                                               NaN                                                                               NaN                   1.0                                                                NaN                                                                                                                                                                                                                                                                                                                                                                                                                                                                                        NaN                                                                                                                                                                                                                  NaN                         NaN                                                                                                          NaN                                                   NaN                NaN                                        NaN          NaN                                                                                                                                                                                                                                                                                                                                                                                                                                                                                                                                              NaN\nmax         NaN                NaN                                                                                                                                                                                                                                                                                                                                                                                                                                                                                                                                                                                                                                                                                                                          NaN                       NaN                       NaN      NaN                                                    NaN                                    NaN         NaN                NaN              NaN             NaN               NaN                 NaN                         NaN         0.0           0.0           9.000000                  NaN     NaN        78.000000                                          NaN                    0.0                 NaN             50.676748               7.572109            92400.000000         92050.000000            NaN                           0.0                                                 NaN                                                                               NaN                                                                               NaN                   1.0                                                                NaN                                                                                                                                                                                                                                                                                                                                                                                                                                                                                        NaN                                                                                                                                                                                                                  NaN                         NaN                                                                                                          NaN                                                   NaN                NaN                                        NaN          NaN                                                                                                                                                                                                                                                                                                                                                                                                                                                                                                                                              NaN\n"
     ]
    }
   ],
   "source": [
    "# 1. Définir les configurations avec vos informations d'identification\n",
    "account_name = \"projet2024\"\n",
    "account_key = \"lgJb6ipPO6g8oYsxrl9FonRqMgMBzBIzNI+wwUuiqon7f90iOsN+QEzQkIqyBTOhfY6aOMcVIZv0+AStPrw9Ng==\"\n",
    "file_system_name = \"staging\"\n",
    "\n",
    "configs = {\n",
    "    f\"fs.azure.account.key.{account_name}.blob.core.windows.net\": account_key\n",
    "}\n",
    "\n",
    "# Vérifier si le répertoire est déjà monté\n",
    "mount_point = \"/mnt/adls\"\n",
    "if any(mount.mountPoint == mount_point for mount in dbutils.fs.mounts()):\n",
    "    dbutils.fs.unmount(mount_point)\n",
    "\n",
    "# 2. Monter le conteneur ADLS dans Databricks\n",
    "dbutils.fs.mount(\n",
    "    source = f\"wasbs://{file_system_name}@{account_name}.blob.core.windows.net/\",\n",
    "    mount_point = mount_point,\n",
    "    extra_configs = configs\n",
    ")\n",
    "\n",
    "# 4. Nettoyer les données avec Pandas\n",
    "import pandas as pd\n",
    "import os\n",
    "\n",
    "# Définir le nom du fichier et le chemin\n",
    "file_name = \"FranceTravailAPI.csv\"\n",
    "local_file_path = \"/dbfs\" + f\"{mount_point}/{file_name}\"  # Convertir le chemin DBFS pour un accès local en Pandas\n",
    "\n",
    "# Vérifier si le fichier existe\n",
    "if not os.path.isfile(local_file_path):\n",
    "    raise FileNotFoundError(f\"Le fichier {local_file_path} n'a pas été trouvé.\")\n",
    "\n",
    "# Lire le fichier CSV avec Pandas\n",
    "df_pandas = pd.read_csv(\n",
    "    local_file_path,\n",
    "    delimiter=\",\",               # Délimiteur utilisé dans le CSV\n",
    "    quotechar='\"',               # Caractère utilisé pour entourer les champs contenant des virgules\n",
    "    escapechar='\\\\',             # Caractère d'échappement pour les guillemets dans les champs\n",
    "    engine='python',             # Utiliser l'engine Python pour plus de flexibilité avec les délimiteurs\n",
    "    encoding='utf-8',            # Encodage du fichier (ajustez si nécessaire)\n",
    "    on_bad_lines='warn'          # Alerter sur les lignes mal formées\n",
    ")\n",
    "\n",
    "# Afficher les premières lignes pour vérifier le contenu\n",
    "print(\"Premières lignes du DataFrame :\")\n",
    "print(df_pandas.head(5))\n",
    "\n",
    "# Afficher les informations générales sur le DataFrame\n",
    "print(\"\\nInformations générales sur le DataFrame :\")\n",
    "print(df_pandas.info())\n",
    "\n",
    "# Afficher un aperçu des statistiques descriptives (pour les colonnes numériques)\n",
    "print(\"\\nStatistiques descriptives :\")\n",
    "print(df_pandas.describe(include='all'))\n"
   ]
  },
  {
   "cell_type": "code",
   "execution_count": 0,
   "metadata": {
    "application/vnd.databricks.v1+cell": {
     "cellMetadata": {
      "byteLimit": 2048000,
      "rowLimit": 10000
     },
     "inputWidgets": {},
     "nuid": "3cf49abc-f574-4b13-9012-80ca27367d3a",
     "showTitle": false,
     "title": ""
    }
   },
   "outputs": [
    {
     "output_type": "execute_result",
     "data": {
      "text/plain": [
       "Index(['id', 'intitule', 'description', 'dateCreation', 'dateActualisation',\n",
       "       'romeCode', 'romeLibelle', 'appellationlibelle', 'typeContrat',\n",
       "       'typeContratLibelle', 'natureContrat', 'experienceExige',\n",
       "       'experienceLibelle', 'dureeTravailLibelle',\n",
       "       'dureeTravailLibelleConverti', 'alternance', 'accessibleTH',\n",
       "       'qualificationCode', 'qualificationLibelle', 'codeNAF',\n",
       "       'secteurActivite', 'secteurActiviteLibelle', 'offresManqueCandidats',\n",
       "       'lieuTravail.libelle', 'lieuTravail.latitude', 'lieuTravail.longitude',\n",
       "       'lieuTravail.codePostal', 'lieuTravail.commune', 'entreprise.nom',\n",
       "       'entreprise.entrepriseAdaptee', 'salaire.libelle',\n",
       "       'contact.coordonnees1', 'contact.urlPostulation',\n",
       "       'origineOffre.origine', 'origineOffre.urlOrigine', 'competences',\n",
       "       'qualitesProfessionnelles', 'contact.nom', 'contact.courriel', 'permis',\n",
       "       'deplacementLibelle', 'langues', 'filtre', 'agregation'],\n",
       "      dtype='object')"
      ]
     },
     "execution_count": 132,
     "metadata": {},
     "output_type": "execute_result"
    }
   ],
   "source": [
    "df_pandas.columns"
   ]
  },
  {
   "cell_type": "markdown",
   "metadata": {
    "application/vnd.databricks.v1+cell": {
     "cellMetadata": {
      "byteLimit": 2048000,
      "rowLimit": 10000
     },
     "inputWidgets": {},
     "nuid": "f38aa5d5-5c9a-49ca-9d5f-fa1bc9353d14",
     "showTitle": false,
     "title": ""
    }
   },
   "source": [
    "# 2) Data Cleaning"
   ]
  },
  {
   "cell_type": "code",
   "execution_count": 0,
   "metadata": {
    "application/vnd.databricks.v1+cell": {
     "cellMetadata": {
      "byteLimit": 2048000,
      "rowLimit": 10000
     },
     "inputWidgets": {},
     "nuid": "b8dbf33a-9196-41ee-90ec-9767ea9e9eb5",
     "showTitle": false,
     "title": ""
    }
   },
   "outputs": [
    {
     "output_type": "stream",
     "name": "stdout",
     "output_type": "stream",
     "text": [
      "root\n |-- id: string (nullable = true)\n |-- intitule: string (nullable = true)\n |-- description: string (nullable = true)\n |-- dateCreation: string (nullable = true)\n |-- dateActualisation: string (nullable = true)\n |-- romeCode: string (nullable = true)\n |-- romeLibelle: string (nullable = true)\n |-- appellationlibelle: string (nullable = true)\n |-- typeContrat: string (nullable = true)\n |-- typeContratLibelle: string (nullable = true)\n |-- natureContrat: string (nullable = true)\n |-- experienceExige: string (nullable = true)\n |-- experienceLibelle: integer (nullable = true)\n |-- dureeTravailLibelle: string (nullable = true)\n |-- dureeTravailLibelleConverti: string (nullable = true)\n |-- qualificationCode: string (nullable = true)\n |-- qualificationLibelle: string (nullable = true)\n |-- codeNAF: string (nullable = true)\n |-- secteurActivite: string (nullable = true)\n |-- secteurActiviteLibelle: string (nullable = true)\n |-- lieuTravail.libelle: string (nullable = true)\n |-- lieuTravail.latitude: string (nullable = true)\n |-- lieuTravail.longitude: string (nullable = true)\n |-- lieuTravail.codePostal: string (nullable = true)\n |-- lieuTravail.commune: string (nullable = true)\n |-- entreprise.nom: string (nullable = true)\n |-- salaire.libelle: string (nullable = true)\n |-- contact.coordonnees1: string (nullable = true)\n |-- origineOffre.origine: string (nullable = true)\n |-- origineOffre.urlOrigine: string (nullable = true)\n |-- contact.nom: string (nullable = true)\n |-- `lieuTravail.codePostal`: integer (nullable = true)\n |-- `lieuTravail.commune`: integer (nullable = true)\n |-- salaireyear: double (nullable = true)\n |-- Contrat: string (nullable = true)\n |-- `entreprise.nom`: string (nullable = true)\n |-- `contact.nom`: string (nullable = true)\n |-- `contact.coordonnees1`: string (nullable = true)\n\n"
     ]
    }
   ],
   "source": [
    "from pyspark.sql import SparkSession\n",
    "from pyspark.sql.functions import col, regexp_replace, when, udf\n",
    "from pyspark.sql.types import DoubleType, IntegerType\n",
    "\n",
    "# Initialize Spark Session\n",
    "spark = SparkSession.builder.appName(\"DataCleaning\").getOrCreate()\n",
    "\n",
    "# Load data into a Spark DataFrame\n",
    "df_spark = spark.read.csv(f\"{mount_point}/{file_name}\", header=True, inferSchema=True)\n",
    "\n",
    "# Drop unnecessary columns\n",
    "columns_to_drop = ['permis', 'competences', 'deplacementCode', 'deplacementLibelle', 'qualitesProfessionnelles', \n",
    "                   'salaire.commentaire', 'salaire.complement1', 'contact.courriel', 'filtre',\n",
    "                   'agregation', 'offresManqueCandidats', 'alternance', 'accessibleTH', 'entreprise.entrepriseAdaptee',\n",
    "                   'offresManqueCandidats', 'contact.urlPostulation', 'langues']\n",
    "\n",
    "df_spark = df_spark.drop(*columns_to_drop)\n",
    "\n",
    "# Handle missing values and type conversions\n",
    "df_spark = df_spark.fillna(0)\n",
    "df_spark = df_spark.withColumn('`lieuTravail.codePostal`', col('`lieuTravail.codePostal`').cast(\"int\"))\n",
    "df_spark = df_spark.withColumn(\"`lieuTravail.commune`\", col(\"`lieuTravail.commune`\").cast(\"int\"))\n",
    "\n",
    "# Handle experienceLibelle column\n",
    "df_spark = df_spark.withColumn(\"experienceLibelle\", regexp_replace(col(\"experienceLibelle\"), r\"Débutant accepté\", \"0\"))\n",
    "df_spark = df_spark.withColumn(\"experienceLibelle\", regexp_replace(col(\"experienceLibelle\"), r\" An\\(s\\)| Mois\", \"\"))\n",
    "df_spark = df_spark.withColumn(\"experienceLibelle\", regexp_replace(col(\"experienceLibelle\"), r'\\D', ''))\n",
    "df_spark = df_spark.fillna(0)\n",
    "df_spark = df_spark.withColumn(\"experienceLibelle\", col(\"experienceLibelle\").cast(\"int\"))\n",
    "\n",
    "# Define and apply the salary scraping function\n",
    "def scrap_sal(sal):\n",
    "    if sal is None:\n",
    "        return None\n",
    "    MENSUEL_PREFIX = \"Mensuel de \"\n",
    "    HORAIR_PREFIX = \"Horaire de \"\n",
    "    ANNUEL_PREFIX = \"Annuel de \"\n",
    "    if sal.startswith(MENSUEL_PREFIX):\n",
    "        return float(sal.split(MENSUEL_PREFIX)[1].split(' ')[0]) * 12\n",
    "    elif sal.startswith(HORAIR_PREFIX):\n",
    "        return float(sal.split(HORAIR_PREFIX)[1].split(' ')[0]) * 40 * 52\n",
    "    elif sal.startswith(ANNUEL_PREFIX):\n",
    "        return float(sal.split(ANNUEL_PREFIX)[1].split(' ')[0])\n",
    "    return None\n",
    "\n",
    "scrap_sal_udf = udf(scrap_sal, DoubleType())\n",
    "df_spark = df_spark.withColumn(\"salaireyear\", scrap_sal_udf(col(\"`salaire.libelle`\")))\n",
    "\n",
    "# Filter contract types\n",
    "df_spark = df_spark.withColumn(\"Contrat\", when(col(\"typeContratLibelle\").contains(\"CDI\"), \"CDI\")\n",
    "                                .when(col(\"typeContratLibelle\").contains(\"CDD\"), \"CDD\")\n",
    "                                .when(col(\"typeContratLibelle\").contains(\"Intérim\"), \"Intérim\"))\n",
    "\n",
    "# Convert necessary columns to string\n",
    "df_spark = df_spark.withColumn('`entreprise.nom`', col('`entreprise.nom`').cast(\"string\"))\n",
    "df_spark = df_spark.withColumn('`contact.nom`', col('`contact.nom`').cast(\"string\"))\n",
    "df_spark = df_spark.withColumn('`contact.coordonnees1`', col('`contact.coordonnees1`').cast(\"string\"))\n",
    "\n",
    "# Handle description formatting\n",
    "df_spark = df_spark.withColumn('description', regexp_replace(col('description'), r'\\\\n', '\\n'))\n",
    "\n",
    "# Drop rows with null salary values (this was implied by the dropna in the original Python code)\n",
    "df_spark.printSchema()\n",
    "\n",
    "df_spark = df_spark.na.drop(subset=[\"salaireyear\"])\n",
    "\n"
   ]
  },
  {
   "cell_type": "code",
   "execution_count": 0,
   "metadata": {
    "application/vnd.databricks.v1+cell": {
     "cellMetadata": {
      "byteLimit": 2048000,
      "rowLimit": 10000
     },
     "inputWidgets": {},
     "nuid": "6bc60a66-1336-4014-9472-7d21092bd9d1",
     "showTitle": false,
     "title": ""
    }
   },
   "outputs": [
    {
     "output_type": "execute_result",
     "data": {
      "text/html": [
       "<div>\n",
       "<style scoped>\n",
       "    .dataframe tbody tr th:only-of-type {\n",
       "        vertical-align: middle;\n",
       "    }\n",
       "\n",
       "    .dataframe tbody tr th {\n",
       "        vertical-align: top;\n",
       "    }\n",
       "\n",
       "    .dataframe thead th {\n",
       "        text-align: right;\n",
       "    }\n",
       "</style>\n",
       "<table border=\"1\" class=\"dataframe\">\n",
       "  <thead>\n",
       "    <tr style=\"text-align: right;\">\n",
       "      <th></th>\n",
       "      <th>id</th>\n",
       "      <th>intitule</th>\n",
       "      <th>description</th>\n",
       "      <th>dateCreation</th>\n",
       "      <th>dateActualisation</th>\n",
       "      <th>romeCode</th>\n",
       "      <th>romeLibelle</th>\n",
       "      <th>appellationlibelle</th>\n",
       "      <th>typeContrat</th>\n",
       "      <th>typeContratLibelle</th>\n",
       "      <th>natureContrat</th>\n",
       "      <th>experienceExige</th>\n",
       "      <th>experienceLibelle</th>\n",
       "      <th>dureeTravailLibelle</th>\n",
       "      <th>dureeTravailLibelleConverti</th>\n",
       "      <th>qualificationCode</th>\n",
       "      <th>qualificationLibelle</th>\n",
       "      <th>codeNAF</th>\n",
       "      <th>secteurActivite</th>\n",
       "      <th>secteurActiviteLibelle</th>\n",
       "      <th>lieuTravail.libelle</th>\n",
       "      <th>lieuTravail.latitude</th>\n",
       "      <th>lieuTravail.longitude</th>\n",
       "      <th>lieuTravail.codePostal</th>\n",
       "      <th>lieuTravail.commune</th>\n",
       "      <th>entreprise.nom</th>\n",
       "      <th>salaire.libelle</th>\n",
       "      <th>contact.coordonnees1</th>\n",
       "      <th>origineOffre.origine</th>\n",
       "      <th>origineOffre.urlOrigine</th>\n",
       "      <th>contact.nom</th>\n",
       "      <th>`lieuTravail.codePostal`</th>\n",
       "      <th>`lieuTravail.commune`</th>\n",
       "      <th>salaireyear</th>\n",
       "      <th>Contrat</th>\n",
       "      <th>`entreprise.nom`</th>\n",
       "      <th>`contact.nom`</th>\n",
       "      <th>`contact.coordonnees1`</th>\n",
       "    </tr>\n",
       "  </thead>\n",
       "  <tbody>\n",
       "    <tr>\n",
       "      <th>0</th>\n",
       "      <td>- Conditions et espace de travail modernes (Cadre silencieux</td>\n",
       "      <td>doubles écrans</td>\n",
       "      <td>horaires)\"</td>\n",
       "      <td>2024-08-22T03:53:25.891Z</td>\n",
       "      <td>2024-08-22T03:53:26.133Z</td>\n",
       "      <td>C1102</td>\n",
       "      <td>Conseiller / Conseillère en assurances</td>\n",
       "      <td>Téléconseiller / Téléconseillère en assurances</td>\n",
       "      <td>CDI</td>\n",
       "      <td>CDI</td>\n",
       "      <td>Contrat travail</td>\n",
       "      <td>E</td>\n",
       "      <td>2</td>\n",
       "      <td>35H</td>\n",
       "      <td>Temps plein</td>\n",
       "      <td>6.0</td>\n",
       "      <td>Employé qualifié</td>\n",
       "      <td>78.20Z</td>\n",
       "      <td>78.0</td>\n",
       "      <td>Activités des agences de travail temporaire</td>\n",
       "      <td>92 - Antony</td>\n",
       "      <td>48.751021</td>\n",
       "      <td>2.29783</td>\n",
       "      <td>92160.0</td>\n",
       "      <td>92002.0</td>\n",
       "      <td>PARTNAIRE</td>\n",
       "      <td>Annuel de 30000.0 Euros à 35000.0 Euros sur 12.0 mois</td>\n",
       "      <td>http://app.mytalentplug.com/description-offre.aspx?ojid=GNEQmCJLyBA2xzqC+iUa9Q==</td>\n",
       "      <td>1.0</td>\n",
       "      <td>https://candidat.francetravail.fr/offres/recherche/detail/179TRLK</td>\n",
       "      <td>None</td>\n",
       "      <td>92160</td>\n",
       "      <td>92002</td>\n",
       "      <td>30000.0</td>\n",
       "      <td>CDI</td>\n",
       "      <td>PARTNAIRE</td>\n",
       "      <td>None</td>\n",
       "      <td>http://app.mytalentplug.com/description-offre.aspx?ojid=GNEQmCJLyBA2xzqC+iUa9Q==</td>\n",
       "    </tr>\n",
       "  </tbody>\n",
       "</table>\n",
       "</div>"
      ],
      "text/plain": [
       "                                                             id         intitule  description              dateCreation         dateActualisation romeCode                             romeLibelle                              appellationlibelle typeContrat typeContratLibelle    natureContrat experienceExige  experienceLibelle dureeTravailLibelle dureeTravailLibelleConverti qualificationCode qualificationLibelle codeNAF secteurActivite                       secteurActiviteLibelle lieuTravail.libelle lieuTravail.latitude lieuTravail.longitude lieuTravail.codePostal lieuTravail.commune entreprise.nom                                        salaire.libelle                                                              contact.coordonnees1 origineOffre.origine                                            origineOffre.urlOrigine contact.nom  `lieuTravail.codePostal`  `lieuTravail.commune`  salaireyear Contrat `entreprise.nom` `contact.nom`                                                            `contact.coordonnees1`\n",
       "0  - Conditions et espace de travail modernes (Cadre silencieux   doubles écrans   horaires)\"  2024-08-22T03:53:25.891Z  2024-08-22T03:53:26.133Z    C1102  Conseiller / Conseillère en assurances  Téléconseiller / Téléconseillère en assurances         CDI                CDI  Contrat travail               E                  2                 35H                 Temps plein               6.0     Employé qualifié  78.20Z            78.0  Activités des agences de travail temporaire         92 - Antony            48.751021               2.29783                92160.0             92002.0      PARTNAIRE  Annuel de 30000.0 Euros à 35000.0 Euros sur 12.0 mois  http://app.mytalentplug.com/description-offre.aspx?ojid=GNEQmCJLyBA2xzqC+iUa9Q==                  1.0  https://candidat.francetravail.fr/offres/recherche/detail/179TRLK        None                     92160                  92002      30000.0     CDI        PARTNAIRE          None  http://app.mytalentplug.com/description-offre.aspx?ojid=GNEQmCJLyBA2xzqC+iUa9Q=="
      ]
     },
     "execution_count": 134,
     "metadata": {},
     "output_type": "execute_result"
    }
   ],
   "source": [
    "df_python = df_spark.toPandas()\n",
    "\n",
    "# Now you can use any Pandas visualization or simply display the DataFrame\n",
    "df_python.head()\n"
   ]
  },
  {
   "cell_type": "code",
   "execution_count": 0,
   "metadata": {
    "application/vnd.databricks.v1+cell": {
     "cellMetadata": {
      "byteLimit": 2048000,
      "rowLimit": 10000
     },
     "inputWidgets": {},
     "nuid": "72ffda74-d370-49c6-b16f-4185125c75dd",
     "showTitle": false,
     "title": ""
    }
   },
   "outputs": [
    {
     "output_type": "execute_result",
     "data": {
      "text/plain": [
       "Index(['id', 'intitule', 'description', 'dateCreation', 'dateActualisation',\n",
       "       'romeCode', 'romeLibelle', 'appellationlibelle', 'typeContrat',\n",
       "       'typeContratLibelle', 'natureContrat', 'experienceExige',\n",
       "       'experienceLibelle', 'dureeTravailLibelle',\n",
       "       'dureeTravailLibelleConverti', 'alternance', 'accessibleTH',\n",
       "       'qualificationCode', 'qualificationLibelle', 'codeNAF',\n",
       "       'secteurActivite', 'secteurActiviteLibelle', 'offresManqueCandidats',\n",
       "       'lieuTravail.libelle', 'lieuTravail.latitude', 'lieuTravail.longitude',\n",
       "       'lieuTravail.codePostal', 'lieuTravail.commune', 'entreprise.nom',\n",
       "       'entreprise.entrepriseAdaptee', 'salaire.libelle',\n",
       "       'contact.coordonnees1', 'contact.urlPostulation',\n",
       "       'origineOffre.origine', 'origineOffre.urlOrigine', 'competences',\n",
       "       'qualitesProfessionnelles', 'contact.nom', 'contact.courriel', 'permis',\n",
       "       'deplacementLibelle', 'langues', 'filtre', 'agregation'],\n",
       "      dtype='object')"
      ]
     },
     "execution_count": 135,
     "metadata": {},
     "output_type": "execute_result"
    }
   ],
   "source": [
    "df_pandas.columns"
   ]
  },
  {
   "cell_type": "code",
   "execution_count": 0,
   "metadata": {
    "application/vnd.databricks.v1+cell": {
     "cellMetadata": {
      "byteLimit": 2048000,
      "rowLimit": 10000
     },
     "inputWidgets": {},
     "nuid": "81a11c9f-6dba-4b8d-a9ca-f7355797215b",
     "showTitle": false,
     "title": ""
    }
   },
   "outputs": [],
   "source": [
    "# Afficher toutes les colonnes\n",
    "pd.set_option('display.max_columns', None)      # Afficher toutes les colonnes\n",
    "pd.set_option('display.max_rows', None)         # Afficher toutes les lignes (ajuster si nécessaire)\n",
    "pd.set_option('display.max_colwidth', 700)     # Afficher toutes les valeurs dans les colonnes\n",
    "pd.set_option('display.expand_frame_repr', False)  # Ne pas couper les lignes du DataFrame\n",
    "\n",
    "# Liste des colonnes à supprimer\n",
    "colonnes_a_supprimer = ['permis', 'competences', 'deplacementLibelle', 'qualitesProfessionnelles', 'contact.courriel','filtre','agregation','offresManqueCandidats','alternance','accessibleTH','entreprise.entrepriseAdaptee','offresManqueCandidats','contact.urlPostulation','langues']\n",
    "\n",
    "# Suppression des colonnes\n",
    "df_pandas = df_pandas.drop(columns=colonnes_a_supprimer)\n",
    "df_pandas=df_pandas.fillna(0)\n",
    "df_pandas['lieuTravail.codePostal'] = df_pandas['lieuTravail.codePostal'].astype(int)\n",
    "df_pandas['lieuTravail.commune'] = df_pandas['lieuTravail.commune'].astype(int)\n",
    "\n",
    "df_pandas['experienceLibelle']=df_pandas['experienceLibelle'].replace(\"Débutant accepté\", \"0\")\n",
    "df_pandas['experienceLibelle']=df_pandas['experienceLibelle'].str.replace(r\" An\\(s\\)| Mois\", \"\", regex=True)\n",
    "#remove any string values\n",
    "df_pandas['experienceLibelle'] = df_pandas['experienceLibelle'].str.replace(r'\\D', '', regex=True)\n",
    "df_pandas['experienceLibelle'] = pd.to_numeric(df_pandas['experienceLibelle'], errors='coerce')\n",
    "df_pandas['experienceLibelle']=df_pandas['experienceLibelle'].fillna(0)\n",
    "df_pandas['experienceLibelle']=df_pandas['experienceLibelle'].astype(int)\n",
    "\n"
   ]
  },
  {
   "cell_type": "code",
   "execution_count": 0,
   "metadata": {
    "application/vnd.databricks.v1+cell": {
     "cellMetadata": {
      "byteLimit": 2048000,
      "rowLimit": 10000
     },
     "inputWidgets": {},
     "nuid": "ac401d2f-c6ce-4d59-9456-f669a885a876",
     "showTitle": false,
     "title": ""
    }
   },
   "outputs": [],
   "source": [
    "sal = df_pandas[['salaire.libelle']]\n",
    "df_pandas['salaire.libelle'] = sal['salaire.libelle'].astype(str)\n",
    "# law howa bybda2 b Mensuel * 40 * 52\n",
    "def scrap_sal(sal):\n",
    "    MENSUEL_PREFIX = \"Mensuel de \"\n",
    "    HORAIR_PREFIX = \"Horaire de \"\n",
    "    ANNUEL_PREFIX = \"Annuel de \"\n",
    "    if sal.startswith(MENSUEL_PREFIX):\n",
    "        # print(sal.split(MENSUEL_PREFIX)[1].split(' ')[0])\n",
    "        return float(sal.split(MENSUEL_PREFIX)[1].split(' ')[0]) * 12\n",
    "    elif sal.startswith(HORAIR_PREFIX):\n",
    "        return float(sal.split(HORAIR_PREFIX)[1].split(' ')[0])*40*52\n",
    "    elif sal.startswith(ANNUEL_PREFIX):\n",
    "        return float(sal.split(ANNUEL_PREFIX)[1].split(' ')[0])\n",
    "\n",
    "# sal.loc[:, 'salaire.libelle'] = sal['salaire.libelle'].dropna()\n",
    "df_pandas\n",
    "df_pandas['salaire_per_year'] = df_pandas['salaire.libelle'].apply(lambda x: scrap_sal(x))\n",
    "df_pandas.dropna(inplace = True)\n",
    "# dataframeML['salaire_per_year']\n",
    "df_pandas['salaire_per_year'] = df_pandas['salaire_per_year'].astype(int)"
   ]
  },
  {
   "cell_type": "code",
   "execution_count": 0,
   "metadata": {
    "application/vnd.databricks.v1+cell": {
     "cellMetadata": {
      "byteLimit": 2048000,
      "rowLimit": 10000
     },
     "inputWidgets": {},
     "nuid": "aec70771-694b-4a4b-9d3d-e0cf12911361",
     "showTitle": false,
     "title": ""
    }
   },
   "outputs": [],
   "source": [
    "# function to clean typeContractLibelle \n",
    "def filter_contract_type(contract):\n",
    "    if 'CDI' in contract:\n",
    "        return 'CDI'\n",
    "    elif 'CDD' in contract:\n",
    "        return 'CDD'\n",
    "    elif 'Intérim' in contract:\n",
    "        return 'Intérim'\n",
    "\n",
    "\n",
    "df_pandas['Contrat'] = df_pandas['typeContratLibelle'].apply(filter_contract_type)\n"
   ]
  },
  {
   "cell_type": "code",
   "execution_count": 0,
   "metadata": {
    "application/vnd.databricks.v1+cell": {
     "cellMetadata": {
      "byteLimit": 2048000,
      "rowLimit": 10000
     },
     "inputWidgets": {},
     "nuid": "46ce44b8-a03d-42bd-be05-73e3193eb130",
     "showTitle": false,
     "title": ""
    }
   },
   "outputs": [],
   "source": [
    "# Si vous souhaitez formater les descriptions avec des sauts de ligne, vous pouvez les conserver comme suit :\n",
    "df_pandas['description'] = df_pandas['description'].replace({r'\\\\n': '\\n'}, regex=True)"
   ]
  },
  {
   "cell_type": "code",
   "execution_count": 0,
   "metadata": {
    "application/vnd.databricks.v1+cell": {
     "cellMetadata": {
      "byteLimit": 2048000,
      "rowLimit": 10000
     },
     "inputWidgets": {},
     "nuid": "678291ee-2ee4-4cbf-ad44-5e717760a63b",
     "showTitle": false,
     "title": ""
    }
   },
   "outputs": [
    {
     "output_type": "execute_result",
     "data": {
      "text/html": [
       "<div>\n",
       "<style scoped>\n",
       "    .dataframe tbody tr th:only-of-type {\n",
       "        vertical-align: middle;\n",
       "    }\n",
       "\n",
       "    .dataframe tbody tr th {\n",
       "        vertical-align: top;\n",
       "    }\n",
       "\n",
       "    .dataframe thead th {\n",
       "        text-align: right;\n",
       "    }\n",
       "</style>\n",
       "<table border=\"1\" class=\"dataframe\">\n",
       "  <thead>\n",
       "    <tr style=\"text-align: right;\">\n",
       "      <th></th>\n",
       "      <th>id</th>\n",
       "      <th>intitule</th>\n",
       "      <th>description</th>\n",
       "      <th>dateCreation</th>\n",
       "      <th>dateActualisation</th>\n",
       "      <th>romeCode</th>\n",
       "      <th>romeLibelle</th>\n",
       "      <th>appellationlibelle</th>\n",
       "      <th>typeContrat</th>\n",
       "      <th>typeContratLibelle</th>\n",
       "      <th>natureContrat</th>\n",
       "      <th>experienceExige</th>\n",
       "      <th>experienceLibelle</th>\n",
       "      <th>dureeTravailLibelle</th>\n",
       "      <th>dureeTravailLibelleConverti</th>\n",
       "      <th>qualificationCode</th>\n",
       "      <th>qualificationLibelle</th>\n",
       "      <th>codeNAF</th>\n",
       "      <th>secteurActivite</th>\n",
       "      <th>secteurActiviteLibelle</th>\n",
       "      <th>lieuTravail.libelle</th>\n",
       "      <th>lieuTravail.latitude</th>\n",
       "      <th>lieuTravail.longitude</th>\n",
       "      <th>lieuTravail.codePostal</th>\n",
       "      <th>lieuTravail.commune</th>\n",
       "      <th>entreprise.nom</th>\n",
       "      <th>salaire.libelle</th>\n",
       "      <th>contact.coordonnees1</th>\n",
       "      <th>origineOffre.origine</th>\n",
       "      <th>origineOffre.urlOrigine</th>\n",
       "      <th>contact.nom</th>\n",
       "      <th>salaire_per_year</th>\n",
       "      <th>Contrat</th>\n",
       "    </tr>\n",
       "  </thead>\n",
       "  <tbody>\n",
       "    <tr>\n",
       "      <th>0</th>\n",
       "      <td>179TRWT</td>\n",
       "      <td>Opérateur régleur (H/F)</td>\n",
       "      <td>L'agence PARTNAIRE Chantonnay accompagne une société spécialiste de la conception et la fabrication de machines pour l'entretien des sols et jardins, dans son recrutement :\\n\\nRégleur Formateur Tôlerie (H/F)\\n\\nAu sein de l'atelier votre mission est de \\n\\n- Suivre la production suivant le planning établi\\n- Régler et programmer les machines du secteur tôlerie\\n- Rendre compte au responsable secteur chaudronnerie des aléas et problèmes rencontrés\\n- Former le personnel individuellement sur les machines de production du secteur tôlerie\\n- Réaliser ponctuellement des opérations sur les machines de production du secteur tôlerie\\n\\nDu lundi au vendredi : 8h00 - 12h00 et 12h45 - 16h33\\n\\nPoss...</td>\n",
       "      <td>2024-08-22T04:34:11.132Z</td>\n",
       "      <td>2024-08-22T04:34:11.343Z</td>\n",
       "      <td>H2903</td>\n",
       "      <td>Tourneur-fraiseur / Tourneuse-fraiseuse</td>\n",
       "      <td>Opérateur régleur / Opératrice régleuse sur centre d'usinage</td>\n",
       "      <td>CDI</td>\n",
       "      <td>CDI</td>\n",
       "      <td>Contrat travail</td>\n",
       "      <td>D</td>\n",
       "      <td>0</td>\n",
       "      <td>35H</td>\n",
       "      <td>Temps plein</td>\n",
       "      <td>6.0</td>\n",
       "      <td>Employé qualifié</td>\n",
       "      <td>78.20Z</td>\n",
       "      <td>78.0</td>\n",
       "      <td>Activités des agences de travail temporaire</td>\n",
       "      <td>85 - Chantonnay</td>\n",
       "      <td>46.670782</td>\n",
       "      <td>-1.051061</td>\n",
       "      <td>85110</td>\n",
       "      <td>85051</td>\n",
       "      <td>GROUPE PARTNAIRE</td>\n",
       "      <td>Horaire de 11.65 Euros à 12.0 Euros sur 12.0 mois</td>\n",
       "      <td>http://app.mytalentplug.com/description-offre.aspx?ojid=hYTjwumNgz3Yog/4h9Zo3Q==</td>\n",
       "      <td>1.0</td>\n",
       "      <td>https://candidat.francetravail.fr/offres/recherche/detail/179TRWT</td>\n",
       "      <td>0</td>\n",
       "      <td>24232</td>\n",
       "      <td>CDI</td>\n",
       "    </tr>\n",
       "    <tr>\n",
       "      <th>1</th>\n",
       "      <td>179TRWR</td>\n",
       "      <td>Plombier (H/F)</td>\n",
       "      <td>Notre client est le leader européen indépendant pure-player des services multi-techniques dans les domaines de l'énergie et des communications.\\n\\nIl participe activement à la lutte contre le changement climatique et adapter les espaces de vie pour gagner le pari d'une transition énergétique et d'une transformation numérique responsable qui soient synonymes de progrès durable pour chaque citoyen.\\n\\nNous recherchons un plombier (H/F) sur le secteur de Nancy pour divers chantier sur les environs.\\n\\nAu quotidien vous serez en charge de la pose de supportage, du tirage de tubes, de soudure, de raccordements ainsi que divers tâche de plomberie et de manutention.\\n\\nPoste de journée\\n\\nTaux ...</td>\n",
       "      <td>2024-08-22T04:34:02.085Z</td>\n",
       "      <td>2024-08-22T04:34:02.362Z</td>\n",
       "      <td>F1603</td>\n",
       "      <td>Plombier / Plombière</td>\n",
       "      <td>Plombier / Plombière</td>\n",
       "      <td>MIS</td>\n",
       "      <td>Intérim - 1 Mois</td>\n",
       "      <td>Contrat travail</td>\n",
       "      <td>D</td>\n",
       "      <td>0</td>\n",
       "      <td>35H</td>\n",
       "      <td>Temps plein</td>\n",
       "      <td>3.0</td>\n",
       "      <td>Ouvrier qualifié (P1,P2)</td>\n",
       "      <td>78.20Z</td>\n",
       "      <td>78.0</td>\n",
       "      <td>Activités des agences de travail temporaire</td>\n",
       "      <td>54 - Dombasle-sur-Meurthe</td>\n",
       "      <td>48.618560</td>\n",
       "      <td>6.357780</td>\n",
       "      <td>54110</td>\n",
       "      <td>54159</td>\n",
       "      <td>PARTNAIRE</td>\n",
       "      <td>Horaire de 11.65 Euros à 13.0 Euros sur 12.0 mois</td>\n",
       "      <td>http://app.mytalentplug.com/description-offre.aspx?ojid=9k52ZTvNT5JTX9Ypg67zyA==</td>\n",
       "      <td>1.0</td>\n",
       "      <td>https://candidat.francetravail.fr/offres/recherche/detail/179TRWR</td>\n",
       "      <td>0</td>\n",
       "      <td>24232</td>\n",
       "      <td>Intérim</td>\n",
       "    </tr>\n",
       "    <tr>\n",
       "      <th>2</th>\n",
       "      <td>179TRWQ</td>\n",
       "      <td>Agent de maintenance (H/F)</td>\n",
       "      <td>Notre client sur le secteur du Neubourg est une entreprise familiale française existante depuis plus de 70 ans.\\nL'entreprise fabrique des pièces en béton destinées aux grossistes.\\n\\nVotre agence Partnaire de Louviers recrute un agent de maintenance (F/H), \\n\\nVos missions sont :\\n- Régler et entretenir les ensembles des éléments (type moules).\\n- Assurer le dépannage rapide des machines de production.\\n- Remettre en service après essai et vérification.\\n- Consigner les activités effectuées et les conséquences en actualisant les dossiers.\\n- Réaliser à la demande de son supérieur des modifications sur le matériel existant.\\n- Détecter les dysfonctionnements.\\n- Assurer un diagnostic et ...</td>\n",
       "      <td>2024-08-22T04:33:55.004Z</td>\n",
       "      <td>2024-08-22T04:33:55.225Z</td>\n",
       "      <td>I1304</td>\n",
       "      <td>Technicien / Technicienne de maintenance industrielle</td>\n",
       "      <td>Agent / Agente de maintenance industrielle</td>\n",
       "      <td>MIS</td>\n",
       "      <td>Intérim - 4 Mois</td>\n",
       "      <td>Contrat travail</td>\n",
       "      <td>E</td>\n",
       "      <td>1</td>\n",
       "      <td>35H</td>\n",
       "      <td>Temps plein</td>\n",
       "      <td>7.0</td>\n",
       "      <td>Technicien</td>\n",
       "      <td>78.20Z</td>\n",
       "      <td>78.0</td>\n",
       "      <td>Activités des agences de travail temporaire</td>\n",
       "      <td>27 - Marbeuf</td>\n",
       "      <td>49.153251</td>\n",
       "      <td>0.966071</td>\n",
       "      <td>27110</td>\n",
       "      <td>27389</td>\n",
       "      <td>PARTNAIRE</td>\n",
       "      <td>Annuel de 25000.0 Euros à 35000.0 Euros sur 12.0 mois</td>\n",
       "      <td>http://app.mytalentplug.com/description-offre.aspx?ojid=prwV6tyKONRxy08hfRAxvQ==</td>\n",
       "      <td>1.0</td>\n",
       "      <td>https://candidat.francetravail.fr/offres/recherche/detail/179TRWQ</td>\n",
       "      <td>0</td>\n",
       "      <td>25000</td>\n",
       "      <td>Intérim</td>\n",
       "    </tr>\n",
       "    <tr>\n",
       "      <th>3</th>\n",
       "      <td>179TRWN</td>\n",
       "      <td>Préparateur de commandes (H/F)</td>\n",
       "      <td>Votre agence PARTNAIRE CHANTONNAY, accompagne une entreprise basée à STE HERMINE, spécialiste des pains et viennoiseries  : pains ambiants ou surgelés, standards ou spéciaux,  dans le recrutement de ses préparateurs de  commande (H/F)\\n\\nRattaché(e) au chef d'équipe, le préparateur de commande prépare les commandes de produits finis à expédier :\\n\\n* constitue les palettes comme indiqué sur son terminal de préparation\\n* intègre les spécificités de certains clients dans la préparation de leurs commandes (séparation des produits par des intercalaires, séparation des produits par des palettes, disposition les bandes de garantie sur les palettes)\\n* réapprovisionne les emplacements dédiés a...</td>\n",
       "      <td>2024-08-22T04:33:10.351Z</td>\n",
       "      <td>2024-08-22T04:33:10.582Z</td>\n",
       "      <td>N1103</td>\n",
       "      <td>Préparateur / Préparatrice de commandes</td>\n",
       "      <td>Préparateur / Préparatrice de commandes</td>\n",
       "      <td>MIS</td>\n",
       "      <td>Intérim - 6 Mois</td>\n",
       "      <td>Contrat travail</td>\n",
       "      <td>D</td>\n",
       "      <td>0</td>\n",
       "      <td>35H</td>\n",
       "      <td>Temps plein</td>\n",
       "      <td>3.0</td>\n",
       "      <td>Ouvrier qualifié (P1,P2)</td>\n",
       "      <td>78.20Z</td>\n",
       "      <td>78.0</td>\n",
       "      <td>Activités des agences de travail temporaire</td>\n",
       "      <td>85 - Saint-Aubin-la-Plaine</td>\n",
       "      <td>46.505581</td>\n",
       "      <td>-1.059879</td>\n",
       "      <td>85210</td>\n",
       "      <td>85199</td>\n",
       "      <td>GROUPE PARTNAIRE</td>\n",
       "      <td>Horaire de 11.65 Euros à 11.65 Euros sur 12.0 mois</td>\n",
       "      <td>http://app.mytalentplug.com/description-offre.aspx?ojid=ponsFKzUSDbCvGlBIePmqw==</td>\n",
       "      <td>1.0</td>\n",
       "      <td>https://candidat.francetravail.fr/offres/recherche/detail/179TRWN</td>\n",
       "      <td>0</td>\n",
       "      <td>24232</td>\n",
       "      <td>Intérim</td>\n",
       "    </tr>\n",
       "    <tr>\n",
       "      <th>4</th>\n",
       "      <td>179TRWM</td>\n",
       "      <td>Menuisier (H/F)</td>\n",
       "      <td>Votre agence Partnaire CAVAILLON, reconnue par ses clients pour sa qualité du service et soucieuse de la fidélisation de ses intérimaires, recherche pour son client un menuisier fabricant bois (H/F) pour son client basé sur la commune de Saint-Andiol. \\n\\nVous souhaitez rejoindre une entreprise spécialisée dans le domaine de la menuiserie bois intérieure, l'agencement et le mobilier sur mesure pour les professionnels.\\n\\nVous travaillerez au sein de l'atelier.\\n\\n\\nVos missions sont: \\n\\n-  Réaliser un plan de fabrication et d'installation\\n-  Fabriquer les éléments de menuiserie en bois et panneaux dérivés manuellement ou a l'aide de machines (découpe, assemblage, montage)\\n- Utiliser d...</td>\n",
       "      <td>2024-08-22T04:31:13.574Z</td>\n",
       "      <td>2024-08-22T04:31:13.793Z</td>\n",
       "      <td>H2202</td>\n",
       "      <td>Conducteur / Conductrice de machines à bois</td>\n",
       "      <td>Menuisier / Menuisière en industrie du bois</td>\n",
       "      <td>MIS</td>\n",
       "      <td>Intérim - 3 Mois</td>\n",
       "      <td>Contrat travail</td>\n",
       "      <td>E</td>\n",
       "      <td>1</td>\n",
       "      <td>35H</td>\n",
       "      <td>Temps plein</td>\n",
       "      <td>6.0</td>\n",
       "      <td>Employé qualifié</td>\n",
       "      <td>78.20Z</td>\n",
       "      <td>78.0</td>\n",
       "      <td>Activités des agences de travail temporaire</td>\n",
       "      <td>13 - Saint-Andiol</td>\n",
       "      <td>43.833076</td>\n",
       "      <td>4.947506</td>\n",
       "      <td>13670</td>\n",
       "      <td>13089</td>\n",
       "      <td>PARTNAIRE</td>\n",
       "      <td>Horaire de 11.65 Euros à 14.0 Euros sur 12.0 mois</td>\n",
       "      <td>http://app.mytalentplug.com/description-offre.aspx?ojid=Sjs006MakOTWW++34NvtKg==</td>\n",
       "      <td>1.0</td>\n",
       "      <td>https://candidat.francetravail.fr/offres/recherche/detail/179TRWM</td>\n",
       "      <td>0</td>\n",
       "      <td>24232</td>\n",
       "      <td>Intérim</td>\n",
       "    </tr>\n",
       "  </tbody>\n",
       "</table>\n",
       "</div>"
      ],
      "text/plain": [
       "        id                        intitule                                                                                                                                                                                                                                                                                                                                                                                                                                                                                                                                                                                                                                                                                                                  description              dateCreation         dateActualisation romeCode                                            romeLibelle                                            appellationlibelle typeContrat typeContratLibelle    natureContrat experienceExige  experienceLibelle dureeTravailLibelle dureeTravailLibelleConverti  qualificationCode      qualificationLibelle codeNAF  secteurActivite                       secteurActiviteLibelle         lieuTravail.libelle  lieuTravail.latitude  lieuTravail.longitude  lieuTravail.codePostal  lieuTravail.commune    entreprise.nom                                        salaire.libelle                                                              contact.coordonnees1  origineOffre.origine                                            origineOffre.urlOrigine contact.nom  salaire_per_year  Contrat\n",
       "0  179TRWT         Opérateur régleur (H/F)  L'agence PARTNAIRE Chantonnay accompagne une société spécialiste de la conception et la fabrication de machines pour l'entretien des sols et jardins, dans son recrutement :\\n\\nRégleur Formateur Tôlerie (H/F)\\n\\nAu sein de l'atelier votre mission est de \\n\\n- Suivre la production suivant le planning établi\\n- Régler et programmer les machines du secteur tôlerie\\n- Rendre compte au responsable secteur chaudronnerie des aléas et problèmes rencontrés\\n- Former le personnel individuellement sur les machines de production du secteur tôlerie\\n- Réaliser ponctuellement des opérations sur les machines de production du secteur tôlerie\\n\\nDu lundi au vendredi : 8h00 - 12h00 et 12h45 - 16h33\\n\\nPoss...  2024-08-22T04:34:11.132Z  2024-08-22T04:34:11.343Z    H2903                Tourneur-fraiseur / Tourneuse-fraiseuse  Opérateur régleur / Opératrice régleuse sur centre d'usinage         CDI                CDI  Contrat travail               D                  0                 35H                 Temps plein                6.0          Employé qualifié  78.20Z             78.0  Activités des agences de travail temporaire             85 - Chantonnay             46.670782              -1.051061                   85110                85051  GROUPE PARTNAIRE      Horaire de 11.65 Euros à 12.0 Euros sur 12.0 mois  http://app.mytalentplug.com/description-offre.aspx?ojid=hYTjwumNgz3Yog/4h9Zo3Q==                   1.0  https://candidat.francetravail.fr/offres/recherche/detail/179TRWT           0             24232      CDI\n",
       "1  179TRWR                  Plombier (H/F)  Notre client est le leader européen indépendant pure-player des services multi-techniques dans les domaines de l'énergie et des communications.\\n\\nIl participe activement à la lutte contre le changement climatique et adapter les espaces de vie pour gagner le pari d'une transition énergétique et d'une transformation numérique responsable qui soient synonymes de progrès durable pour chaque citoyen.\\n\\nNous recherchons un plombier (H/F) sur le secteur de Nancy pour divers chantier sur les environs.\\n\\nAu quotidien vous serez en charge de la pose de supportage, du tirage de tubes, de soudure, de raccordements ainsi que divers tâche de plomberie et de manutention.\\n\\nPoste de journée\\n\\nTaux ...  2024-08-22T04:34:02.085Z  2024-08-22T04:34:02.362Z    F1603                                   Plombier / Plombière                                          Plombier / Plombière         MIS   Intérim - 1 Mois  Contrat travail               D                  0                 35H                 Temps plein                3.0  Ouvrier qualifié (P1,P2)  78.20Z             78.0  Activités des agences de travail temporaire   54 - Dombasle-sur-Meurthe             48.618560               6.357780                   54110                54159         PARTNAIRE      Horaire de 11.65 Euros à 13.0 Euros sur 12.0 mois  http://app.mytalentplug.com/description-offre.aspx?ojid=9k52ZTvNT5JTX9Ypg67zyA==                   1.0  https://candidat.francetravail.fr/offres/recherche/detail/179TRWR           0             24232  Intérim\n",
       "2  179TRWQ      Agent de maintenance (H/F)  Notre client sur le secteur du Neubourg est une entreprise familiale française existante depuis plus de 70 ans.\\nL'entreprise fabrique des pièces en béton destinées aux grossistes.\\n\\nVotre agence Partnaire de Louviers recrute un agent de maintenance (F/H), \\n\\nVos missions sont :\\n- Régler et entretenir les ensembles des éléments (type moules).\\n- Assurer le dépannage rapide des machines de production.\\n- Remettre en service après essai et vérification.\\n- Consigner les activités effectuées et les conséquences en actualisant les dossiers.\\n- Réaliser à la demande de son supérieur des modifications sur le matériel existant.\\n- Détecter les dysfonctionnements.\\n- Assurer un diagnostic et ...  2024-08-22T04:33:55.004Z  2024-08-22T04:33:55.225Z    I1304  Technicien / Technicienne de maintenance industrielle                    Agent / Agente de maintenance industrielle         MIS   Intérim - 4 Mois  Contrat travail               E                  1                 35H                 Temps plein                7.0                Technicien  78.20Z             78.0  Activités des agences de travail temporaire                27 - Marbeuf             49.153251               0.966071                   27110                27389         PARTNAIRE  Annuel de 25000.0 Euros à 35000.0 Euros sur 12.0 mois  http://app.mytalentplug.com/description-offre.aspx?ojid=prwV6tyKONRxy08hfRAxvQ==                   1.0  https://candidat.francetravail.fr/offres/recherche/detail/179TRWQ           0             25000  Intérim\n",
       "3  179TRWN  Préparateur de commandes (H/F)  Votre agence PARTNAIRE CHANTONNAY, accompagne une entreprise basée à STE HERMINE, spécialiste des pains et viennoiseries  : pains ambiants ou surgelés, standards ou spéciaux,  dans le recrutement de ses préparateurs de  commande (H/F)\\n\\nRattaché(e) au chef d'équipe, le préparateur de commande prépare les commandes de produits finis à expédier :\\n\\n* constitue les palettes comme indiqué sur son terminal de préparation\\n* intègre les spécificités de certains clients dans la préparation de leurs commandes (séparation des produits par des intercalaires, séparation des produits par des palettes, disposition les bandes de garantie sur les palettes)\\n* réapprovisionne les emplacements dédiés a...  2024-08-22T04:33:10.351Z  2024-08-22T04:33:10.582Z    N1103                Préparateur / Préparatrice de commandes                       Préparateur / Préparatrice de commandes         MIS   Intérim - 6 Mois  Contrat travail               D                  0                 35H                 Temps plein                3.0  Ouvrier qualifié (P1,P2)  78.20Z             78.0  Activités des agences de travail temporaire  85 - Saint-Aubin-la-Plaine             46.505581              -1.059879                   85210                85199  GROUPE PARTNAIRE     Horaire de 11.65 Euros à 11.65 Euros sur 12.0 mois  http://app.mytalentplug.com/description-offre.aspx?ojid=ponsFKzUSDbCvGlBIePmqw==                   1.0  https://candidat.francetravail.fr/offres/recherche/detail/179TRWN           0             24232  Intérim\n",
       "4  179TRWM                 Menuisier (H/F)  Votre agence Partnaire CAVAILLON, reconnue par ses clients pour sa qualité du service et soucieuse de la fidélisation de ses intérimaires, recherche pour son client un menuisier fabricant bois (H/F) pour son client basé sur la commune de Saint-Andiol. \\n\\nVous souhaitez rejoindre une entreprise spécialisée dans le domaine de la menuiserie bois intérieure, l'agencement et le mobilier sur mesure pour les professionnels.\\n\\nVous travaillerez au sein de l'atelier.\\n\\n\\nVos missions sont: \\n\\n-  Réaliser un plan de fabrication et d'installation\\n-  Fabriquer les éléments de menuiserie en bois et panneaux dérivés manuellement ou a l'aide de machines (découpe, assemblage, montage)\\n- Utiliser d...  2024-08-22T04:31:13.574Z  2024-08-22T04:31:13.793Z    H2202            Conducteur / Conductrice de machines à bois                   Menuisier / Menuisière en industrie du bois         MIS   Intérim - 3 Mois  Contrat travail               E                  1                 35H                 Temps plein                6.0          Employé qualifié  78.20Z             78.0  Activités des agences de travail temporaire           13 - Saint-Andiol             43.833076               4.947506                   13670                13089         PARTNAIRE      Horaire de 11.65 Euros à 14.0 Euros sur 12.0 mois  http://app.mytalentplug.com/description-offre.aspx?ojid=Sjs006MakOTWW++34NvtKg==                   1.0  https://candidat.francetravail.fr/offres/recherche/detail/179TRWM           0             24232  Intérim"
      ]
     },
     "execution_count": 140,
     "metadata": {},
     "output_type": "execute_result"
    }
   ],
   "source": [
    "df_pandas.head()"
   ]
  },
  {
   "cell_type": "code",
   "execution_count": 0,
   "metadata": {
    "application/vnd.databricks.v1+cell": {
     "cellMetadata": {
      "byteLimit": 2048000,
      "rowLimit": 10000
     },
     "inputWidgets": {},
     "nuid": "99ddef54-64a9-4e95-83da-bb798a04e613",
     "showTitle": false,
     "title": ""
    }
   },
   "outputs": [],
   "source": [
    "df_pandas['entreprise.nom'] = df_pandas['entreprise.nom'].astype(str)\n",
    "df_pandas['contact.nom'] = df_pandas['contact.nom'].astype(str)\n",
    "df_pandas['contact.coordonnees1'] = df_pandas['contact.coordonnees1'].astype(str)\n",
    "\n",
    "\n",
    "\n"
   ]
  },
  {
   "cell_type": "markdown",
   "metadata": {
    "application/vnd.databricks.v1+cell": {
     "cellMetadata": {
      "byteLimit": 2048000,
      "rowLimit": 10000
     },
     "inputWidgets": {},
     "nuid": "a857900d-aa19-49a1-b31d-8fc9890059ca",
     "showTitle": false,
     "title": ""
    }
   },
   "source": [
    "#3) Visuals and Analysis"
   ]
  },
  {
   "cell_type": "code",
   "execution_count": 0,
   "metadata": {
    "application/vnd.databricks.v1+cell": {
     "cellMetadata": {
      "byteLimit": 2048000,
      "rowLimit": 10000
     },
     "inputWidgets": {},
     "nuid": "932c2177-04d1-400d-adf9-77c2d8f9c0a2",
     "showTitle": false,
     "title": ""
    }
   },
   "outputs": [
    {
     "output_type": "execute_result",
     "data": {
      "text/plain": [
       "<Axes: title={'center': \"Répartition des offres par secteur d'activité\"}>"
      ]
     },
     "execution_count": 142,
     "metadata": {},
     "output_type": "execute_result"
    },
    {
     "output_type": "display_data",
     "data": {
      "image/png": "[encoded data removed]",
      "text/plain": [
       "<Figure size 640x480 with 1 Axes>"
      ]
     },
     "metadata": {},
     "output_type": "display_data"
    }
   ],
   "source": [
    "secteur_counts = df_pandas['secteurActiviteLibelle'].value_counts()\n",
    "secteur_counts.plot(kind='bar', title=\"Répartition des offres par secteur d'activité\")\n"
   ]
  },
  {
   "cell_type": "code",
   "execution_count": 0,
   "metadata": {
    "application/vnd.databricks.v1+cell": {
     "cellMetadata": {
      "byteLimit": 2048000,
      "rowLimit": 10000
     },
     "inputWidgets": {},
     "nuid": "15ed9a64-aec2-4ecc-b2ca-48a0e21386a8",
     "showTitle": false,
     "title": ""
    }
   },
   "outputs": [
    {
     "output_type": "execute_result",
     "data": {
      "text/plain": [
       "<Axes: title={'center': 'Répartition des qualifications demandées'}>"
      ]
     },
     "execution_count": 143,
     "metadata": {},
     "output_type": "execute_result"
    },
    {
     "output_type": "display_data",
     "data": {
      "image/png": "[encoded data removed]",
      "text/plain": [
       "<Figure size 640x480 with 1 Axes>"
      ]
     },
     "metadata": {},
     "output_type": "display_data"
    }
   ],
   "source": [
    "qualification_counts = df_pandas['qualificationLibelle'].value_counts()\n",
    "qualification_counts.plot(kind='bar', title=\"Répartition des qualifications demandées\")\n"
   ]
  },
  {
   "cell_type": "code",
   "execution_count": 0,
   "metadata": {
    "application/vnd.databricks.v1+cell": {
     "cellMetadata": {
      "byteLimit": 2048000,
      "rowLimit": 10000
     },
     "inputWidgets": {},
     "nuid": "fb8e9e15-ccc2-48b8-9dca-841ed13502fe",
     "showTitle": false,
     "title": ""
    }
   },
   "outputs": [
    {
     "output_type": "execute_result",
     "data": {
      "text/plain": [
       "<Axes: title={'center': 'Répartition des types de contrats'}, ylabel='Contrat'>"
      ]
     },
     "execution_count": 144,
     "metadata": {},
     "output_type": "execute_result"
    },
    {
     "output_type": "display_data",
     "data": {
      "image/png": "[encoded data removed]",
      "text/plain": [
       "<Figure size 640x480 with 1 Axes>"
      ]
     },
     "metadata": {},
     "output_type": "display_data"
    }
   ],
   "source": [
    "contrat_counts = df_pandas['Contrat'].value_counts()\n",
    "contrat_counts.plot(kind='pie', autopct='%1.1f%%', title=\"Répartition des types de contrats\")\n"
   ]
  },
  {
   "cell_type": "code",
   "execution_count": 0,
   "metadata": {
    "application/vnd.databricks.v1+cell": {
     "cellMetadata": {
      "byteLimit": 2048000,
      "rowLimit": 10000
     },
     "inputWidgets": {},
     "nuid": "6507bf5e-c8a5-4b4b-a25a-506264b70b08",
     "showTitle": false,
     "title": ""
    }
   },
   "outputs": [
    {
     "output_type": "execute_result",
     "data": {
      "text/plain": [
       "<Axes: title={'center': \"Top 10 des communes avec le plus d'offres\"}>"
      ]
     },
     "execution_count": 145,
     "metadata": {},
     "output_type": "execute_result"
    },
    {
     "output_type": "display_data",
     "data": {
      "image/png": "[encoded data removed]",
      "text/plain": [
       "<Figure size 640x480 with 1 Axes>"
      ]
     },
     "metadata": {},
     "output_type": "display_data"
    }
   ],
   "source": [
    "# Convertir les codes communes en entiers puis en chaînes de caractères pour enlever les .0\n",
    "\n",
    "lieu_counts = df_pandas['lieuTravail.commune'].value_counts().head(10)\n",
    "lieu_counts.plot(kind='bar', title=\"Top 10 des communes avec le plus d'offres\")\n"
   ]
  },
  {
   "cell_type": "code",
   "execution_count": 0,
   "metadata": {
    "application/vnd.databricks.v1+cell": {
     "cellMetadata": {
      "byteLimit": 2048000,
      "rowLimit": 10000
     },
     "inputWidgets": {},
     "nuid": "9d7d9e4f-e1df-450e-96c7-f5330312dd46",
     "showTitle": false,
     "title": ""
    }
   },
   "outputs": [
    {
     "output_type": "execute_result",
     "data": {
      "text/plain": [
       "<Axes: title={'center': \"Répartition des niveaux d'expérience requis\"}>"
      ]
     },
     "execution_count": 146,
     "metadata": {},
     "output_type": "execute_result"
    },
    {
     "output_type": "display_data",
     "data": {
      "image/png": "[encoded data removed]",
      "text/plain": [
       "<Figure size 640x480 with 1 Axes>"
      ]
     },
     "metadata": {},
     "output_type": "display_data"
    }
   ],
   "source": [
    "experience_counts = df_pandas['experienceLibelle'].value_counts()\n",
    "experience_counts.plot(kind='bar', title=\"Répartition des niveaux d'expérience requis\")\n"
   ]
  },
  {
   "cell_type": "code",
   "execution_count": 0,
   "metadata": {
    "application/vnd.databricks.v1+cell": {
     "cellMetadata": {
      "byteLimit": 2048000,
      "rowLimit": 10000
     },
     "inputWidgets": {},
     "nuid": "0b1a75c6-4157-489e-a9f7-18200cc1cc0b",
     "showTitle": false,
     "title": ""
    }
   },
   "outputs": [
    {
     "output_type": "execute_result",
     "data": {
      "text/plain": [
       "<Axes: title={'center': 'Salaire annuels moyen par secteur'}, xlabel='secteurActiviteLibelle'>"
      ]
     },
     "execution_count": 147,
     "metadata": {},
     "output_type": "execute_result"
    },
    {
     "output_type": "display_data",
     "data": {
      "image/png": "[encoded data removed]",
      "text/plain": [
       "<Figure size 640x480 with 1 Axes>"
      ]
     },
     "metadata": {},
     "output_type": "display_data"
    }
   ],
   "source": [
    "# Si les salaires sont dans un format numérique exploitable\n",
    "df_pandas['salaire_per_year'] = df_pandas['salaire_per_year'].astype(float)\n",
    "salaire_moyen_par_secteur = df_pandas.groupby('secteurActiviteLibelle')['salaire_per_year'].mean()\n",
    "salaire_moyen_par_secteur.plot(kind='bar', title=\"Salaire annuels moyen par secteur\")\n"
   ]
  },
  {
   "cell_type": "markdown",
   "metadata": {
    "application/vnd.databricks.v1+cell": {
     "cellMetadata": {
      "byteLimit": 2048000,
      "rowLimit": 10000
     },
     "inputWidgets": {},
     "nuid": "5be40392-9bc6-4695-859c-6311a43893c8",
     "showTitle": false,
     "title": ""
    }
   },
   "source": [
    "#4) Draft"
   ]
  },
  {
   "cell_type": "code",
   "execution_count": 0,
   "metadata": {
    "application/vnd.databricks.v1+cell": {
     "cellMetadata": {
      "byteLimit": 2048000,
      "rowLimit": 10000
     },
     "inputWidgets": {},
     "nuid": "2f3e2937-8360-48e0-87b0-e653ec242139",
     "showTitle": false,
     "title": ""
    }
   },
   "outputs": [
    {
     "output_type": "stream",
     "name": "stderr",
     "output_type": "stream",
     "text": [
      "/root/.ipykernel/2735/command-3173368327208671-1682081972:4: SettingWithCopyWarning: \nA value is trying to be set on a copy of a slice from a DataFrame\n\nSee the caveats in the documentation: https://pandas.pydata.org/pandas-docs/stable/user_guide/indexing.html#returning-a-view-versus-a-copy\n  dataframeML.dropna(inplace=True)\n"
     ]
    }
   ],
   "source": [
    "import ast\n",
    "dataframeML = df_pandas[['salaire_per_year', 'experienceLibelle','secteurActiviteLibelle']]\n",
    "\n",
    "dataframeML.dropna(inplace=True)\n"
   ]
  },
  {
   "cell_type": "code",
   "execution_count": 0,
   "metadata": {
    "application/vnd.databricks.v1+cell": {
     "cellMetadata": {
      "byteLimit": 2048000,
      "rowLimit": 10000
     },
     "inputWidgets": {},
     "nuid": "73f679dc-d8a1-432a-8c25-d4bad242087d",
     "showTitle": false,
     "title": ""
    }
   },
   "outputs": [
    {
     "output_type": "stream",
     "name": "stderr",
     "output_type": "stream",
     "text": [
      "/root/.ipykernel/2735/command-3173368327208661-2615656598:2: SettingWithCopyWarning: \nA value is trying to be set on a copy of a slice from a DataFrame\n\nSee the caveats in the documentation: https://pandas.pydata.org/pandas-docs/stable/user_guide/indexing.html#returning-a-view-versus-a-copy\n  dataframeML['experienceLibelle'].fillna(0, inplace=True)  # Or dropna() if that's appropriate\n"
     ]
    }
   ],
   "source": [
    "\n",
    "# Remove any remaining non-numeric characters using regex\n",
    "dataframeML['experienceLibelle'].fillna(0, inplace=True)  # Or dropna() if that's appropriate\n"
   ]
  },
  {
   "cell_type": "code",
   "execution_count": 0,
   "metadata": {
    "application/vnd.databricks.v1+cell": {
     "cellMetadata": {
      "byteLimit": 2048000,
      "rowLimit": 10000
     },
     "inputWidgets": {},
     "nuid": "1a3a06d1-9407-4fd2-b16b-1662195eb4a6",
     "showTitle": false,
     "title": ""
    }
   },
   "outputs": [
    {
     "output_type": "execute_result",
     "data": {
      "text/plain": [
       "Activités des agences de travail temporaire        148\n",
       "Boulangerie et boulangerie-pâtisserie                1\n",
       "Autre mise à disposition de ressources humaines      1\n",
       "Name: secteurActiviteLibelle, dtype: int64"
      ]
     },
     "execution_count": 150,
     "metadata": {},
     "output_type": "execute_result"
    }
   ],
   "source": [
    "df_pandas['secteurActiviteLibelle'].value_counts()"
   ]
  },
  {
   "cell_type": "code",
   "execution_count": 0,
   "metadata": {
    "application/vnd.databricks.v1+cell": {
     "cellMetadata": {
      "byteLimit": 2048000,
      "rowLimit": 10000
     },
     "inputWidgets": {},
     "nuid": "faede8bd-4c67-4881-bd4c-932f4462a620",
     "showTitle": false,
     "title": ""
    }
   },
   "outputs": [
    {
     "output_type": "stream",
     "name": "stdout",
     "output_type": "stream",
     "text": [
      "int64\n"
     ]
    },
    {
     "output_type": "execute_result",
     "data": {
      "text/plain": [
       "1     56\n",
       "0     47\n",
       "2     43\n",
       "5      2\n",
       "12     1\n",
       "7      1\n",
       "Name: experienceLibelle, dtype: int64"
      ]
     },
     "execution_count": 151,
     "metadata": {},
     "output_type": "execute_result"
    }
   ],
   "source": [
    "dataframeML = df_pandas\n",
    "dataframeML['experienceLibelle'].astype(int)\n",
    "print(dataframeML['experienceLibelle'].dtype)\n",
    "dataframeML['experienceLibelle'] = dataframeML['experienceLibelle'].astype(int)\n",
    "dataframeML['experienceLibelle'].value_counts()"
   ]
  },
  {
   "cell_type": "code",
   "execution_count": 0,
   "metadata": {
    "application/vnd.databricks.v1+cell": {
     "cellMetadata": {
      "byteLimit": 2048000,
      "rowLimit": 10000
     },
     "inputWidgets": {},
     "nuid": "b5eec35f-ac12-430c-b05d-d7df3bcbfc19",
     "showTitle": false,
     "title": ""
    }
   },
   "outputs": [
    {
     "output_type": "execute_result",
     "data": {
      "text/plain": [
       "150"
      ]
     },
     "execution_count": 164,
     "metadata": {},
     "output_type": "execute_result"
    }
   ],
   "source": [
    "df_pandas.shape[0]"
   ]
  },
  {
   "cell_type": "markdown",
   "metadata": {
    "application/vnd.databricks.v1+cell": {
     "cellMetadata": {
      "byteLimit": 2048000,
      "rowLimit": 10000
     },
     "inputWidgets": {},
     "nuid": "90d1d43e-281f-4b6e-98c7-b6e32e446e3d",
     "showTitle": false,
     "title": ""
    }
   },
   "source": [
    "# 5) Save our data cleaned in datawarehouse"
   ]
  },
  {
   "cell_type": "code",
   "execution_count": 0,
   "metadata": {
    "application/vnd.databricks.v1+cell": {
     "cellMetadata": {
      "byteLimit": 2048000,
      "rowLimit": 10000
     },
     "inputWidgets": {},
     "nuid": "12752ac7-9419-4951-a275-f472895b8918",
     "showTitle": false,
     "title": ""
    }
   },
   "outputs": [
    {
     "output_type": "stream",
     "name": "stdout",
     "output_type": "stream",
     "text": [
      "/mnt/datawarehouse has been unmounted.\ndatawarehouse is mounted to /mnt/datawarehouse\n"
     ]
    }
   ],
   "source": [
    "container_name = \"datawarehouse\"\n",
    "mount_point = \"/mnt/datawarehouse\"  # This is where the container will be mounted in Databricks\n",
    "\n",
    "# Configuration settings for mounting the container\n",
    "configs = {\n",
    "    f\"fs.azure.account.key.{account_name}.blob.core.windows.net\": account_key\n",
    "}\n",
    "\n",
    "# Unmount the directory if it is already mounted\n",
    "if any(mount.mountPoint == mount_point for mount in dbutils.fs.mounts()):\n",
    "    dbutils.fs.unmount(mount_point)\n",
    "\n",
    "# Mount the container to Databricks\n",
    "dbutils.fs.mount(\n",
    "    source = f\"wasbs://{container_name}@{account_name}.blob.core.windows.net/\",\n",
    "    mount_point = mount_point,\n",
    "    extra_configs = configs\n",
    ")\n",
    "\n",
    "print(f\"{container_name} is mounted to {mount_point}\")\n"
   ]
  },
  {
   "cell_type": "code",
   "execution_count": 0,
   "metadata": {
    "application/vnd.databricks.v1+cell": {
     "cellMetadata": {
      "byteLimit": 2048000,
      "rowLimit": 10000
     },
     "inputWidgets": {},
     "nuid": "a010dc15-6d57-4c2c-b89c-ff0773935240",
     "showTitle": false,
     "title": ""
    }
   },
   "outputs": [
    {
     "output_type": "execute_result",
     "data": {
      "text/plain": [
       "Index(['id', 'intitule', 'description', 'dateCreation', 'dateActualisation',\n",
       "       'romeCode', 'romeLibelle', 'appellationlibelle', 'typeContrat',\n",
       "       'typeContratLibelle', 'natureContrat', 'experienceExige',\n",
       "       'experienceLibelle', 'dureeTravailLibelle',\n",
       "       'dureeTravailLibelleConverti', 'qualificationCode',\n",
       "       'qualificationLibelle', 'codeNAF', 'secteurActivite',\n",
       "       'secteurActiviteLibelle', 'lieuTravail.libelle', 'lieuTravail.latitude',\n",
       "       'lieuTravail.longitude', 'lieuTravail.codePostal',\n",
       "       'lieuTravail.commune', 'entreprise.nom', 'salaire.libelle',\n",
       "       'contact.coordonnees1', 'origineOffre.origine',\n",
       "       'origineOffre.urlOrigine', 'contact.nom', 'salaire_per_year',\n",
       "       'Contrat'],\n",
       "      dtype='object')"
      ]
     },
     "execution_count": 166,
     "metadata": {},
     "output_type": "execute_result"
    }
   ],
   "source": [
    "df_pandas.columns"
   ]
  },
  {
   "cell_type": "code",
   "execution_count": 0,
   "metadata": {
    "application/vnd.databricks.v1+cell": {
     "cellMetadata": {
      "byteLimit": 2048000,
      "rowLimit": 10000
     },
     "inputWidgets": {},
     "nuid": "12b7ee48-2256-49d4-974f-290dd8182d20",
     "showTitle": false,
     "title": ""
    }
   },
   "outputs": [
    {
     "output_type": "stream",
     "name": "stdout",
     "output_type": "stream",
     "text": [
      "Directory /dbfs/mnt/datawarehouse/processed_data created or already exists.\n"
     ]
    },
    {
     "output_type": "display_data",
     "data": {
      "text/html": [
       "<style scoped>\n",
       "  .table-result-container {\n",
       "    max-height: 300px;\n",
       "    overflow: auto;\n",
       "  }\n",
       "  table, th, td {\n",
       "    border: 1px solid black;\n",
       "    border-collapse: collapse;\n",
       "  }\n",
       "  th, td {\n",
       "    padding: 5px;\n",
       "  }\n",
       "  th {\n",
       "    text-align: left;\n",
       "  }\n",
       "</style><div class='table-result-container'><table class='table-result'><thead style='background-color: white'><tr><th>path</th><th>name</th><th>size</th><th>modificationTime</th></tr></thead><tbody><tr><td>dbfs:/mnt/datawarehouse/checkpoints/</td><td>checkpoints/</td><td>0</td><td>1724022513000</td></tr><tr><td>dbfs:/mnt/datawarehouse/processed_data/</td><td>processed_data/</td><td>0</td><td>1724022510000</td></tr></tbody></table></div>"
      ]
     },
     "metadata": {
      "application/vnd.databricks.v1+output": {
       "addedWidgets": {},
       "aggData": [],
       "aggError": "",
       "aggOverflow": false,
       "aggSchema": [],
       "aggSeriesLimitReached": false,
       "aggType": "",
       "arguments": {},
       "columnCustomDisplayInfos": {},
       "data": [
        [
         "dbfs:/mnt/datawarehouse/checkpoints/",
         "checkpoints/",
         0,
         1724022513000
        ],
        [
         "dbfs:/mnt/datawarehouse/processed_data/",
         "processed_data/",
         0,
         1724022510000
        ]
       ],
       "datasetInfos": [],
       "dbfsResultPath": null,
       "isJsonSchema": true,
       "metadata": {},
       "overflow": false,
       "plotOptions": {
        "customPlotOptions": {},
        "displayType": "table",
        "pivotAggregation": null,
        "pivotColumns": null,
        "xColumns": null,
        "yColumns": null
       },
       "removedWidgets": [],
       "schema": [
        {
         "metadata": "{}",
         "name": "path",
         "type": "\"string\""
        },
        {
         "metadata": "{}",
         "name": "name",
         "type": "\"string\""
        },
        {
         "metadata": "{}",
         "name": "size",
         "type": "\"long\""
        },
        {
         "metadata": "{}",
         "name": "modificationTime",
         "type": "\"long\""
        }
       ],
       "type": "table"
      }
     },
     "output_type": "display_data"
    },
    {
     "output_type": "stream",
     "name": "stdout",
     "output_type": "stream",
     "text": [
      "Data saved to /dbfs/mnt/datawarehouse/processed_data/APIProcessedData.csv\nPipeline terminé, les données transformées ont été enregistrées.\n"
     ]
    }
   ],
   "source": [
    "# Step 1: Define the mount point and directory path using dbfs protocol\n",
    "directory_path = \"/dbfs/mnt/datawarehouse/processed_data\"\n",
    "\n",
    "# Step 2: Re-create the directory in Databricks (to ensure path existence)\n",
    "dbutils.fs.mkdirs(directory_path)\n",
    "print(f\"Directory {directory_path} created or already exists.\")\n",
    "\n",
    "# Step 3: Verify the directory by listing the contents of the parent directory\n",
    "display(dbutils.fs.ls(\"/mnt/datawarehouse\"))\n",
    "\n",
    "# Step 4: Define the full output path for the CSV file\n",
    "output_file_path = f\"{directory_path}/APIProcessedData.csv\"\n",
    "\n",
    "# Step 5: Save the DataFrame as a CSV file in the created directory\n",
    "df_pandas.to_csv(output_file_path, index=False)\n",
    "print(f\"Data saved to {output_file_path}\")\n",
    "print(\"Pipeline terminé, les données transformées ont été enregistrées.\")\n"
   ]
  },
  {
   "cell_type": "markdown",
   "metadata": {
    "application/vnd.databricks.v1+cell": {
     "cellMetadata": {
      "byteLimit": 2048000,
      "rowLimit": 10000
     },
     "inputWidgets": {},
     "nuid": "54539e95-76ca-42a5-9401-6640b9aa7567",
     "showTitle": false,
     "title": ""
    }
   },
   "source": [
    "## Scatter Plot of Salary per Year vs. Experience Level\n"
   ]
  },
  {
   "cell_type": "code",
   "execution_count": 0,
   "metadata": {
    "application/vnd.databricks.v1+cell": {
     "cellMetadata": {
      "byteLimit": 2048000,
      "rowLimit": 10000
     },
     "inputWidgets": {},
     "nuid": "e050d9fc-1821-435b-bbd8-92a8c9ef3de6",
     "showTitle": false,
     "title": ""
    }
   },
   "outputs": [
    {
     "output_type": "execute_result",
     "data": {
      "text/html": [
       "<div>\n",
       "<style scoped>\n",
       "    .dataframe tbody tr th:only-of-type {\n",
       "        vertical-align: middle;\n",
       "    }\n",
       "\n",
       "    .dataframe tbody tr th {\n",
       "        vertical-align: top;\n",
       "    }\n",
       "\n",
       "    .dataframe thead th {\n",
       "        text-align: right;\n",
       "    }\n",
       "</style>\n",
       "<table border=\"1\" class=\"dataframe\">\n",
       "  <thead>\n",
       "    <tr style=\"text-align: right;\">\n",
       "      <th></th>\n",
       "      <th>salaire_per_year</th>\n",
       "      <th>experienceLibelle</th>\n",
       "      <th>secteurActiviteLibelle</th>\n",
       "    </tr>\n",
       "  </thead>\n",
       "  <tbody>\n",
       "    <tr>\n",
       "      <th>0</th>\n",
       "      <td>24232.0</td>\n",
       "      <td>0</td>\n",
       "      <td>Activités des agences de travail temporaire</td>\n",
       "    </tr>\n",
       "    <tr>\n",
       "      <th>1</th>\n",
       "      <td>24232.0</td>\n",
       "      <td>0</td>\n",
       "      <td>Activités des agences de travail temporaire</td>\n",
       "    </tr>\n",
       "    <tr>\n",
       "      <th>2</th>\n",
       "      <td>25000.0</td>\n",
       "      <td>1</td>\n",
       "      <td>Activités des agences de travail temporaire</td>\n",
       "    </tr>\n",
       "    <tr>\n",
       "      <th>3</th>\n",
       "      <td>24232.0</td>\n",
       "      <td>0</td>\n",
       "      <td>Activités des agences de travail temporaire</td>\n",
       "    </tr>\n",
       "    <tr>\n",
       "      <th>4</th>\n",
       "      <td>24232.0</td>\n",
       "      <td>1</td>\n",
       "      <td>Activités des agences de travail temporaire</td>\n",
       "    </tr>\n",
       "  </tbody>\n",
       "</table>\n",
       "</div>"
      ],
      "text/plain": [
       "   salaire_per_year  experienceLibelle                       secteurActiviteLibelle\n",
       "0           24232.0                  0  Activités des agences de travail temporaire\n",
       "1           24232.0                  0  Activités des agences de travail temporaire\n",
       "2           25000.0                  1  Activités des agences de travail temporaire\n",
       "3           24232.0                  0  Activités des agences de travail temporaire\n",
       "4           24232.0                  1  Activités des agences de travail temporaire"
      ]
     },
     "execution_count": 154,
     "metadata": {},
     "output_type": "execute_result"
    }
   ],
   "source": [
    "dataframeML = df_pandas[[ 'salaire_per_year', 'experienceLibelle','secteurActiviteLibelle']]\n",
    "dataframeML.head()"
   ]
  },
  {
   "cell_type": "code",
   "execution_count": 0,
   "metadata": {
    "application/vnd.databricks.v1+cell": {
     "cellMetadata": {
      "byteLimit": 2048000,
      "rowLimit": 10000
     },
     "inputWidgets": {},
     "nuid": "2900360e-093b-4cee-9c49-244151b4be53",
     "showTitle": false,
     "title": ""
    }
   },
   "outputs": [
    {
     "output_type": "display_data",
     "data": {
      "image/png": "[encoded data removed]",
      "text/plain": [
       "<Figure size 640x480 with 1 Axes>"
      ]
     },
     "metadata": {},
     "output_type": "display_data"
    }
   ],
   "source": [
    "import matplotlib.pyplot as plt\n",
    "dataframeML[['experienceLibelle', 'salaire_per_year','secteurActiviteLibelle']]\n",
    "plt.scatter(dataframeML['experienceLibelle'], dataframeML['salaire_per_year'])\n",
    "plt.show()"
   ]
  },
  {
   "cell_type": "markdown",
   "metadata": {
    "application/vnd.databricks.v1+cell": {
     "cellMetadata": {
      "byteLimit": 2048000,
      "rowLimit": 10000
     },
     "inputWidgets": {},
     "nuid": "0802cb3a-89b0-44d7-b7c9-6f553102b6d5",
     "showTitle": false,
     "title": ""
    }
   },
   "source": [
    "# Machine learning"
   ]
  },
  {
   "cell_type": "markdown",
   "metadata": {
    "application/vnd.databricks.v1+cell": {
     "cellMetadata": {
      "byteLimit": 2048000,
      "rowLimit": 10000
     },
     "inputWidgets": {},
     "nuid": "82b4d159-bf0f-48cf-9a2e-5d70bbd60985",
     "showTitle": false,
     "title": ""
    }
   },
   "source": [
    "## Data cleaning and processing for models\n"
   ]
  },
  {
   "cell_type": "code",
   "execution_count": 0,
   "metadata": {
    "application/vnd.databricks.v1+cell": {
     "cellMetadata": {
      "byteLimit": 2048000,
      "rowLimit": 10000
     },
     "inputWidgets": {},
     "nuid": "2570cc86-4e39-49ca-9b8b-ece41ba8ebeb",
     "showTitle": false,
     "title": ""
    }
   },
   "outputs": [
    {
     "output_type": "execute_result",
     "data": {
      "text/plain": [
       "Intérim    122\n",
       "CDI         24\n",
       "CDD          4\n",
       "Name: Contrat, dtype: int64"
      ]
     },
     "execution_count": 156,
     "metadata": {},
     "output_type": "execute_result"
    }
   ],
   "source": [
    "dataframeML = df_pandas[[ 'salaire_per_year', 'experienceLibelle','secteurActiviteLibelle','Contrat']]\n",
    "# function to clean typeContractLibelle \n",
    "\n",
    "dataframeML.head()\n",
    "dataframeML['Contrat'].value_counts()"
   ]
  },
  {
   "cell_type": "markdown",
   "metadata": {
    "application/vnd.databricks.v1+cell": {
     "cellMetadata": {
      "byteLimit": 2048000,
      "rowLimit": 10000
     },
     "inputWidgets": {},
     "nuid": "2f0362d4-77be-4292-8159-46c97833b8d4",
     "showTitle": false,
     "title": ""
    }
   },
   "source": [
    "## Training regression models\n"
   ]
  },
  {
   "cell_type": "code",
   "execution_count": 0,
   "metadata": {
    "application/vnd.databricks.v1+cell": {
     "cellMetadata": {
      "byteLimit": 2048000,
      "rowLimit": 10000
     },
     "inputWidgets": {},
     "nuid": "4ed9805f-d143-4c98-b2ed-0f38ffc9b054",
     "showTitle": false,
     "title": ""
    }
   },
   "outputs": [],
   "source": [
    "from sklearn.preprocessing import StandardScaler\n",
    "from sklearn.linear_model import Ridge, LinearRegression, Lasso, BayesianRidge, LogisticRegression\n",
    "from sklearn.ensemble import RandomForestRegressor, GradientBoostingRegressor\n",
    "from sklearn.neighbors import KNeighborsRegressor\n",
    "from sklearn.model_selection import train_test_split\n",
    "from sklearn.preprocessing import LabelEncoder\n",
    "import pandas as pd\n",
    "\n",
    "global X_train , y_train\n",
    "\n",
    "def train_model(model, model_name, data):\n",
    "    # Encoder les colonnes catégorielles\n",
    "    label_encoders = {}\n",
    "    data = data.copy()  # Make a copy of the DataFrame\n",
    "    for column in [\"secteurActiviteLibelle\", \"Contrat\"]:\n",
    "        label_encoders[column] = LabelEncoder()\n",
    "        data[column] = label_encoders[column].fit_transform(data[column])\n",
    "    # Définir les caractéristiques (features) et la cible (target)\n",
    "    X = data[[\"secteurActiviteLibelle\", \"experienceLibelle\", \"Contrat\"]]\n",
    "    y = data[\"salaire_per_year\"]\n",
    "\n",
    "    # Feature scaling\n",
    "    scaler = StandardScaler()\n",
    "    X = scaler.fit_transform(X)\n",
    "\n",
    "    # Diviser les données en jeu d'entraînement et de test\n",
    "    X_train, X_test, y_train, y_test = train_test_split(X, y, test_size=0.2, random_state=42)\n",
    "\n",
    "\n",
    "    \n",
    "    model.fit(X_train, y_train)\n",
    "\n",
    "    # Évaluer le modèle\n",
    "    score = model.score(X_test, y_test)\n",
    "    print(f\"{model_name} Score (R^2): {score:.2f}\\n\")\n"
   ]
  },
  {
   "cell_type": "code",
   "execution_count": 0,
   "metadata": {
    "application/vnd.databricks.v1+cell": {
     "cellMetadata": {
      "byteLimit": 2048000,
      "rowLimit": 10000
     },
     "inputWidgets": {},
     "nuid": "e4f449fb-fad2-455a-8010-2b5f6fa051b7",
     "showTitle": false,
     "title": ""
    }
   },
   "outputs": [
    {
     "output_type": "stream",
     "name": "stdout",
     "output_type": "stream",
     "text": [
      "Ridge Score (R^2): -1.07\n\nLinearRegression Score (R^2): -1.08\n\nLasso Score (R^2): -1.08\n\nBayesianRidge Score (R^2): -0.95\n\nLogisticRegression Score (R^2): 0.23\n\nRandomForest Score (R^2): -0.68\n\nGradientBoosting Score (R^2): -0.87\n\nKNN Score (R^2): -0.78\n\nRandomForestRegressor Score (R^2): -0.71\n\n\n\n"
     ]
    }
   ],
   "source": [
    "\n",
    "# Instantiate the models\n",
    "models = [\n",
    "    Ridge(), \n",
    "    LinearRegression(), \n",
    "    Lasso(), \n",
    "    BayesianRidge(), \n",
    "    LogisticRegression(),\n",
    "    RandomForestRegressor(),\n",
    "    GradientBoostingRegressor(),\n",
    "    KNeighborsRegressor(), \n",
    "    RandomForestRegressor()\n",
    "]\n",
    "\n",
    "models_names = [\n",
    "    \"Ridge\", \n",
    "    \"LinearRegression\", \n",
    "    \"Lasso\", \n",
    "    \"BayesianRidge\", \n",
    "    \"LogisticRegression\",\n",
    "    \"RandomForest\",\n",
    "    \"GradientBoosting\",\n",
    "    \"KNN\",\n",
    "    \"RandomForestRegressor\"\n",
    "]\n",
    "\n",
    "for model, model_name in zip(models, models_names):\n",
    "    train_model(model, model_name, dataframeML)\n",
    "\n",
    "print('\\n')\n"
   ]
  },
  {
   "cell_type": "markdown",
   "metadata": {
    "application/vnd.databricks.v1+cell": {
     "cellMetadata": {
      "byteLimit": 2048000,
      "rowLimit": 10000
     },
     "inputWidgets": {},
     "nuid": "a9978073-dab1-4550-bb68-2bbd3ed42603",
     "showTitle": false,
     "title": ""
    }
   },
   "source": [
    "##Conclusion\n",
    "After evaluating multiple models (Ridge, Linear Regression, Lasso, Bayesian Ridge, Logistic Regression, Random Forest, Gradient Boosting, and K-Nearest Neighbors) on our dataset, the performance, as indicated by the R² scores, is relatively low. \n",
    "The highest R² score achieved was 0.30 with the Logistic Regression model, meaning that even the best model only explains 30% of the variance in the target variable."
   ]
  },
  {
   "cell_type": "markdown",
   "metadata": {
    "application/vnd.databricks.v1+cell": {
     "cellMetadata": {
      "byteLimit": 2048000,
      "rowLimit": 10000
     },
     "inputWidgets": {},
     "nuid": "41398a18-317c-4a4f-a854-7bfe7bfdaeec",
     "showTitle": false,
     "title": ""
    }
   },
   "source": [
    "# Trying hyperparameter tuning\n",
    "\n"
   ]
  },
  {
   "cell_type": "markdown",
   "metadata": {
    "application/vnd.databricks.v1+cell": {
     "cellMetadata": {
      "byteLimit": 2048000,
      "rowLimit": 10000
     },
     "inputWidgets": {},
     "nuid": "453baebd-95cf-40dd-bc7d-e249f5f16293",
     "showTitle": false,
     "title": ""
    }
   },
   "source": [
    "hyperparameter tuning using GridSearchCV, which systematically searched through different values of n_estimators (number of trees) and max_depth (maximum depth of the trees). \n",
    "tried it on the linear logistic regression\n",
    "The tuning process found the best combination of these hyperparameters for my  data, resulting in a better fit and a better R² score\n",
    "![](path)"
   ]
  },
  {
   "cell_type": "code",
   "execution_count": 0,
   "metadata": {
    "application/vnd.databricks.v1+cell": {
     "cellMetadata": {
      "byteLimit": 2048000,
      "rowLimit": 10000
     },
     "inputWidgets": {},
     "nuid": "8beb239b-68ed-41c0-87a9-aeff4b850f55",
     "showTitle": false,
     "title": ""
    }
   },
   "outputs": [
    {
     "output_type": "stream",
     "name": "stderr",
     "output_type": "stream",
     "text": [
      "/databricks/python/lib/python3.10/site-packages/sklearn/model_selection/_split.py:680: UserWarning: The least populated class in y has only 1 members, which is less than n_splits=5.\n  warnings.warn(\n/databricks/python/lib/python3.10/site-packages/sklearn/linear_model/_logistic.py:444: ConvergenceWarning: lbfgs failed to converge (status=1):\nSTOP: TOTAL NO. of ITERATIONS REACHED LIMIT.\n\nIncrease the number of iterations (max_iter) or scale the data as shown in:\n    https://scikit-learn.org/stable/modules/preprocessing.html\nPlease also refer to the documentation for alternative solver options:\n    https://scikit-learn.org/stable/modules/linear_model.html#logistic-regression\n  n_iter_i = _check_optimize_result(\n/databricks/python/lib/python3.10/site-packages/sklearn/linear_model/_logistic.py:444: ConvergenceWarning: lbfgs failed to converge (status=1):\nSTOP: TOTAL NO. of ITERATIONS REACHED LIMIT.\n\nIncrease the number of iterations (max_iter) or scale the data as shown in:\n    https://scikit-learn.org/stable/modules/preprocessing.html\nPlease also refer to the documentation for alternative solver options:\n    https://scikit-learn.org/stable/modules/linear_model.html#logistic-regression\n  n_iter_i = _check_optimize_result(\n/databricks/python/lib/python3.10/site-packages/sklearn/linear_model/_logistic.py:444: ConvergenceWarning: lbfgs failed to converge (status=1):\nSTOP: TOTAL NO. of ITERATIONS REACHED LIMIT.\n\nIncrease the number of iterations (max_iter) or scale the data as shown in:\n    https://scikit-learn.org/stable/modules/preprocessing.html\nPlease also refer to the documentation for alternative solver options:\n    https://scikit-learn.org/stable/modules/linear_model.html#logistic-regression\n  n_iter_i = _check_optimize_result(\n/databricks/python/lib/python3.10/site-packages/sklearn/linear_model/_logistic.py:444: ConvergenceWarning: lbfgs failed to converge (status=1):\nSTOP: TOTAL NO. of ITERATIONS REACHED LIMIT.\n\nIncrease the number of iterations (max_iter) or scale the data as shown in:\n    https://scikit-learn.org/stable/modules/preprocessing.html\nPlease also refer to the documentation for alternative solver options:\n    https://scikit-learn.org/stable/modules/linear_model.html#logistic-regression\n  n_iter_i = _check_optimize_result(\n/databricks/python/lib/python3.10/site-packages/sklearn/linear_model/_logistic.py:444: ConvergenceWarning: lbfgs failed to converge (status=1):\nSTOP: TOTAL NO. of ITERATIONS REACHED LIMIT.\n\nIncrease the number of iterations (max_iter) or scale the data as shown in:\n    https://scikit-learn.org/stable/modules/preprocessing.html\nPlease also refer to the documentation for alternative solver options:\n    https://scikit-learn.org/stable/modules/linear_model.html#logistic-regression\n  n_iter_i = _check_optimize_result(\n/databricks/python/lib/python3.10/site-packages/sklearn/linear_model/_logistic.py:444: ConvergenceWarning: lbfgs failed to converge (status=1):\nSTOP: TOTAL NO. of ITERATIONS REACHED LIMIT.\n\nIncrease the number of iterations (max_iter) or scale the data as shown in:\n    https://scikit-learn.org/stable/modules/preprocessing.html\nPlease also refer to the documentation for alternative solver options:\n    https://scikit-learn.org/stable/modules/linear_model.html#logistic-regression\n  n_iter_i = _check_optimize_result(\n/databricks/python/lib/python3.10/site-packages/sklearn/linear_model/_logistic.py:444: ConvergenceWarning: lbfgs failed to converge (status=1):\nSTOP: TOTAL NO. of ITERATIONS REACHED LIMIT.\n\nIncrease the number of iterations (max_iter) or scale the data as shown in:\n    https://scikit-learn.org/stable/modules/preprocessing.html\nPlease also refer to the documentation for alternative solver options:\n    https://scikit-learn.org/stable/modules/linear_model.html#logistic-regression\n  n_iter_i = _check_optimize_result(\n/databricks/python/lib/python3.10/site-packages/sklearn/linear_model/_logistic.py:444: ConvergenceWarning: lbfgs failed to converge (status=1):\nSTOP: TOTAL NO. of ITERATIONS REACHED LIMIT.\n\nIncrease the number of iterations (max_iter) or scale the data as shown in:\n    https://scikit-learn.org/stable/modules/preprocessing.html\nPlease also refer to the documentation for alternative solver options:\n    https://scikit-learn.org/stable/modules/linear_model.html#logistic-regression\n  n_iter_i = _check_optimize_result(\n"
     ]
    },
    {
     "output_type": "stream",
     "name": "stdout",
     "output_type": "stream",
     "text": [
      "LogisticRegression(C=10.0)\nBest parameters: {'C': 10.0, 'max_iter': 100, 'penalty': 'l2'}\nBest R² score: 0.34\n"
     ]
    }
   ],
   "source": [
    "from sklearn.model_selection import GridSearchCV\n",
    "import numpy as np\n",
    "# Define a simple parameter grid for RandomForest\n",
    "param_grid = {\n",
    "    'C': np.logspace(-3,3,7),\n",
    "    'max_iter': [100, 1000, 5000, 10000,50000, 100000],\n",
    "    'penalty': ['l2']\n",
    "}\n",
    "\n",
    "# Initialize the model\n",
    "lr = LogisticRegression()\n",
    "label_encoders = {}\n",
    "data = dataframeML.copy()\n",
    "\n",
    "for column in [\"secteurActiviteLibelle\", \"Contrat\"]:\n",
    "    label_encoders[column] = LabelEncoder()\n",
    "    data[column] = label_encoders[column].fit_transform(data[column])\n",
    "# Définir les caractéristiques (features) et la cible (target)\n",
    "X = data[[\"secteurActiviteLibelle\", \"experienceLibelle\", \"Contrat\"]]\n",
    "y = data[\"salaire_per_year\"]\n",
    "\n",
    "# Feature scaling\n",
    "scaler = StandardScaler()\n",
    "X = scaler.fit_transform(X)\n",
    "\n",
    "X_train, X_test, y_train, y_test = train_test_split(X, y, test_size=0.2, random_state=42)\n",
    "\n",
    "\n",
    "# Feature scaling\n",
    "scaler = StandardScaler()\n",
    "X = scaler.fit_transform(X)\n",
    "# Perform grid search with cross-validation\n",
    "grid_search = GridSearchCV(estimator=lr, param_grid=param_grid)\n",
    "grid_search.fit(X_train, y_train)\n",
    "# Print the best parameters and R² score\n",
    "print(grid_search.best_estimator_)\n",
    "print(f\"Best parameters: {grid_search.best_params_}\")\n",
    "print(f\"Best R² score: {grid_search.best_score_:.2f}\")\n"
   ]
  },
  {
   "cell_type": "code",
   "execution_count": 0,
   "metadata": {
    "application/vnd.databricks.v1+cell": {
     "cellMetadata": {
      "byteLimit": 2048000,
      "rowLimit": 10000
     },
     "inputWidgets": {},
     "nuid": "5cf32bf9-8cf5-40e7-ba35-583950590c3f",
     "showTitle": false,
     "title": ""
    }
   },
   "outputs": [
    {
     "output_type": "stream",
     "name": "stdout",
     "output_type": "stream",
     "text": [
      "Fitting 5 folds for each of 36 candidates, totalling 180 fits\n[CV] END .......................max_depth=2, n_estimators=10; total time=   0.0s\n[CV] END .......................max_depth=2, n_estimators=10; total time=   0.0s\n[CV] END .......................max_depth=2, n_estimators=15; total time=   0.0s\n[CV] END .......................max_depth=2, n_estimators=30; total time=   0.0s\n[CV] END .......................max_depth=2, n_estimators=30; total time=   0.0s\n[CV] END .......................max_depth=2, n_estimators=30; total time=   0.0s\n[CV] END .......................max_depth=2, n_estimators=30; total time=   0.0s\n[CV] END .......................max_depth=2, n_estimators=50; total time=   0.1s\n[CV] END .......................max_depth=2, n_estimators=50; total time=   0.0s\n[CV] END ......................max_depth=2, n_estimators=100; total time=   0.1s\n[CV] END ......................max_depth=2, n_estimators=100; total time=   0.1s\n[CV] END .......................max_depth=5, n_estimators=10; total time=   0.0s\n[CV] END .......................max_depth=5, n_estimators=10; total time=   0.0s\n[CV] END .......................max_depth=5, n_estimators=10; total time=   0.0s\n[CV] END .......................max_depth=5, n_estimators=10; total time=   0.0s\n[CV] END .......................max_depth=5, n_estimators=10; total time=   0.0s\n[CV] END .......................max_depth=5, n_estimators=15; total time=   0.0s\n[CV] END .......................max_depth=5, n_estimators=15; total time=   0.0s\n[CV] END .......................max_depth=5, n_estimators=15; total time=   0.0s\n[CV] END .......................max_depth=5, n_estimators=30; total time=   0.0s\n[CV] END .......................max_depth=5, n_estimators=30; total time=   0.0s\n[CV] END .......................max_depth=5, n_estimators=30; total time=   0.0s\n[CV] END .......................max_depth=5, n_estimators=50; total time=   0.0s\n[CV] END ......................max_depth=5, n_estimators=100; total time=   0.1s\n[CV] END ......................max_depth=5, n_estimators=200; total time=   0.2s\n[CV] END ......................max_depth=5, n_estimators=200; total time=   0.2s\n[CV] END ......................max_depth=5, n_estimators=200; total time=   0.2s\n[CV] END ......................max_depth=20, n_estimators=10; total time=   0.0s\n[CV] END ......................max_depth=20, n_estimators=10; total time=   0.0s\n[CV] END ......................max_depth=20, n_estimators=10; total time=   0.0s\n[CV] END ......................max_depth=20, n_estimators=10; total time=   0.0s\n[CV] END ......................max_depth=20, n_estimators=10; total time=   0.0s\n[CV] END ......................max_depth=20, n_estimators=15; total time=   0.0s\n[CV] END ......................max_depth=20, n_estimators=15; total time=   0.0s\n[CV] END ......................max_depth=20, n_estimators=15; total time=   0.0s\n[CV] END ......................max_depth=20, n_estimators=30; total time=   0.0s\n[CV] END ......................max_depth=20, n_estimators=30; total time=   0.0s\n[CV] END ......................max_depth=20, n_estimators=30; total time=   0.0s\n[CV] END ......................max_depth=20, n_estimators=50; total time=   0.0s\n[CV] END .....................max_depth=20, n_estimators=100; total time=   0.1s\n[CV] END .....................max_depth=20, n_estimators=100; total time=   0.1s\n[CV] END .....................max_depth=20, n_estimators=100; total time=   0.1s\n[CV] END .....................max_depth=20, n_estimators=100; total time=   0.1s\n[CV] END ......................max_depth=30, n_estimators=10; total time=   0.0s\n[CV] END ......................max_depth=30, n_estimators=10; total time=   0.0s\n[CV] END ......................max_depth=30, n_estimators=10; total time=   0.0s\n[CV] END ......................max_depth=30, n_estimators=15; total time=   0.0s\n[CV] END ......................max_depth=30, n_estimators=30; total time=   0.0s\n[CV] END ......................max_depth=30, n_estimators=30; total time=   0.0s\n[CV] END ......................max_depth=30, n_estimators=30; total time=   0.0s\n[CV] END ......................max_depth=30, n_estimators=30; total time=   0.0s\n[CV] END .....................max_depth=30, n_estimators=100; total time=   0.1s\n[CV] END .....................max_depth=30, n_estimators=100; total time=   0.1s\n[CV] END .....................max_depth=30, n_estimators=200; total time=   0.2s\n[CV] END ....................max_depth=None, n_estimators=10; total time=   0.0s\n[CV] END ....................max_depth=None, n_estimators=15; total time=   0.0s\n[CV] END ....................max_depth=None, n_estimators=30; total time=   0.0s\n[CV] END ....................max_depth=None, n_estimators=50; total time=   0.0s\n[CV] END ...................max_depth=None, n_estimators=100; total time=   0.1s\n[CV] END ...................max_depth=None, n_estimators=100; total time=   0.1s\n[CV] END .......................max_depth=2, n_estimators=15; total time=   0.0s\n[CV] END .......................max_depth=2, n_estimators=15; total time=   0.0s\n[CV] END .......................max_depth=2, n_estimators=15; total time=   0.0s\n[CV] END .......................max_depth=2, n_estimators=15; total time=   0.0s\n[CV] END .......................max_depth=2, n_estimators=30; total time=   0.0s\n[CV] END .......................max_depth=2, n_estimators=50; total time=   0.0s\n[CV] END .......................max_depth=2, n_estimators=50; total time=   0.0s\n[CV] END .......................max_depth=2, n_estimators=50; total time=   0.1s\n[CV] END ......................max_depth=2, n_estimators=100; total time=   0.1s\n[CV] END ......................max_depth=2, n_estimators=100; total time=   0.1s\n[CV] END ......................max_depth=2, n_estimators=100; total time=   0.1s\n[CV] END ......................max_depth=2, n_estimators=200; total time=   0.2s\n[CV] END ......................max_depth=5, n_estimators=100; total time=   0.1s\n[CV] END ......................max_depth=5, n_estimators=200; total time=   0.2s\n[CV] END ......................max_depth=5, n_estimators=200; total time=   0.2s\n[CV] END ......................max_depth=5, n_estimators=200; total time=   0.2s\n[CV] END ......................max_depth=20, n_estimators=10; total time=   0.0s\n[CV] END ......................max_depth=20, n_estimators=10; total time=   0.0s\n[CV] END ......................max_depth=20, n_estimators=10; total time=   0.0s\n[CV] END ......................max_depth=20, n_estimators=10; total time=   0.0s\n[CV] END ......................max_depth=20, n_estimators=10; total time=   0.0s\n[CV] END ......................max_depth=20, n_estimators=15; total time=   0.0s\n[CV] END ......................max_depth=20, n_estimators=15; total time=   0.0s\n[CV] END ......................max_depth=20, n_estimators=15; total time=   0.0s\n[CV] END ......................max_depth=20, n_estimators=30; total time=   0.0s\n[CV] END ......................max_depth=20, n_estimators=30; total time=   0.0s\n[CV] END ......................max_depth=20, n_estimators=30; total time=   0.0s\n[CV] END ......................max_depth=20, n_estimators=50; total time=   0.0s\n[CV] END .....................max_depth=20, n_estimators=100; total time=   0.1s\n[CV] END .....................max_depth=20, n_estimators=100; total time=   0.1s\n[CV] END .....................max_depth=20, n_estimators=100; total time=   0.1s\n[CV] END .....................max_depth=20, n_estimators=100; total time=   0.1s\n[CV] END ......................max_depth=30, n_estimators=10; total time=   0.0s\n[CV] END ......................max_depth=30, n_estimators=10; total time=   0.0s\n[CV] END ......................max_depth=30, n_estimators=10; total time=   0.0s\n[CV] END ......................max_depth=30, n_estimators=15; total time=   0.0s\n[CV] END ......................max_depth=30, n_estimators=30; total time=   0.0s\n[CV] END ......................max_depth=30, n_estimators=30; total time=   0.0s\n[CV] END ......................max_depth=30, n_estimators=30; total time=   0.0s\n[CV] END ......................max_depth=30, n_estimators=30; total time=   0.0s\n[CV] END .....................max_depth=30, n_estimators=100; total time=   0.1s\nRandomForestRegressor(max_depth=2, n_estimators=10)\nBest parameters: {'max_depth': 2, 'n_estimators': 10}\nBest R² score: 0.04\n"
     ]
    }
   ],
   "source": [
    "from sklearn.ensemble import RandomForestRegressor\n",
    "from sklearn.model_selection import GridSearchCV\n",
    "\n",
    "# Define a simple parameter grid for RandomForest\n",
    "param_grid = {\n",
    "    'n_estimators': [10, 15, 30, 50, 100, 200],\n",
    "    'max_depth': [None, 2, 5, 10, 20, 30]\n",
    "}\n",
    "\n",
    "# Initialize the model\n",
    "rf = RandomForestRegressor()\n",
    "\n",
    "# Perform grid search with cross-validation\n",
    "grid_search = GridSearchCV(estimator=rf, param_grid=param_grid, cv=5, n_jobs=-1, verbose=2)\n",
    "grid_search.fit(X_train, y_train)\n",
    "# print(grid_search.score(X_test, y_test))\n",
    "# Print the best parameters and R² score\n",
    "print(grid_search.best_estimator_)\n",
    "print(f\"Best parameters: {grid_search.best_params_}\")\n",
    "print(f\"Best R² score: {grid_search.best_score_:.2f}\")\n"
   ]
  },
  {
   "cell_type": "markdown",
   "metadata": {
    "application/vnd.databricks.v1+cell": {
     "cellMetadata": {
      "byteLimit": 2048000,
      "rowLimit": 10000
     },
     "inputWidgets": {},
     "nuid": "0b405773-fd82-434f-91ef-d1cbd597e789",
     "showTitle": false,
     "title": ""
    }
   },
   "source": [
    "Best parameters in our case:\n",
    "C : 0.001\n",
    "max_iter : 100\n",
    "penalty: l2 \n",
    ", So we tried it "
   ]
  },
  {
   "cell_type": "code",
   "execution_count": 0,
   "metadata": {
    "application/vnd.databricks.v1+cell": {
     "cellMetadata": {
      "byteLimit": 2048000,
      "rowLimit": 10000
     },
     "inputWidgets": {},
     "nuid": "ffc84a71-9757-4992-9f41-b9c9aba4c400",
     "showTitle": false,
     "title": ""
    }
   },
   "outputs": [
    {
     "output_type": "stream",
     "name": "stdout",
     "output_type": "stream",
     "text": [
      "accuracy = 0.40\n"
     ]
    }
   ],
   "source": [
    "lr = LogisticRegression(C=0.001, max_iter=100, penalty='l2')\n",
    "lr.fit(X_train, y_train)\n",
    "print(f\"accuracy = {lr.score(X_test, y_test):.2f}\")\n"
   ]
  },
  {
   "cell_type": "markdown",
   "metadata": {
    "application/vnd.databricks.v1+cell": {
     "cellMetadata": {
      "byteLimit": 2048000,
      "rowLimit": 10000
     },
     "inputWidgets": {},
     "nuid": "ef3f4b66-df3b-4ee4-86a0-d1f6693dc0f4",
     "showTitle": false,
     "title": ""
    }
   },
   "source": [
    "In this experiment, I used a logistic regression to model the data. \n",
    "To optimize the model's performance, I performed hyperparameter tuning using GridSearchCV with 5-fold cross-validation. \n",
    "The parameters I tuned were the number of trees (n_estimators) and the maximum depth of the trees (max_depth).\n",
    "\n",
    "This model achieved an R² score of 0.33, indicating that it explains 33% of the variance in the target variable. This result represents a considerable improvement over simpler models, making the logistix Regression a suitable choice for this dataset."
   ]
  },
  {
   "cell_type": "code",
   "execution_count": 0,
   "metadata": {
    "application/vnd.databricks.v1+cell": {
     "cellMetadata": {
      "byteLimit": 2048000,
      "rowLimit": 10000
     },
     "inputWidgets": {},
     "nuid": "fc7f0c15-be30-4e88-be76-3476a19bd819",
     "showTitle": false,
     "title": ""
    }
   },
   "outputs": [
    {
     "output_type": "stream",
     "name": "stdout",
     "output_type": "stream",
     "text": [
      "\u001B[43mNote: you may need to restart the kernel using dbutils.library.restartPython() to use updated packages.\u001B[0m\nRequirement already satisfied: imblearn in /local_disk0/.ephemeral_nfs/envs/pythonEnv-02e111d6-ce3d-4526-8992-9c9bcae493ea/lib/python3.10/site-packages (0.0)\nRequirement already satisfied: imbalanced-learn in /local_disk0/.ephemeral_nfs/envs/pythonEnv-02e111d6-ce3d-4526-8992-9c9bcae493ea/lib/python3.10/site-packages (from imblearn) (0.12.3)\nRequirement already satisfied: scikit-learn>=1.0.2 in /databricks/python3/lib/python3.10/site-packages (from imbalanced-learn->imblearn) (1.1.1)\nRequirement already satisfied: joblib>=1.1.1 in /databricks/python3/lib/python3.10/site-packages (from imbalanced-learn->imblearn) (1.2.0)\nRequirement already satisfied: scipy>=1.5.0 in /databricks/python3/lib/python3.10/site-packages (from imbalanced-learn->imblearn) (1.10.0)\nRequirement already satisfied: threadpoolctl>=2.0.0 in /databricks/python3/lib/python3.10/site-packages (from imbalanced-learn->imblearn) (2.2.0)\nRequirement already satisfied: numpy>=1.17.3 in /databricks/python3/lib/python3.10/site-packages (from imbalanced-learn->imblearn) (1.23.5)\n\u001B[43mNote: you may need to restart the kernel using dbutils.library.restartPython() to use updated packages.\u001B[0m\n\u001B[43mNote: you may need to restart the kernel using dbutils.library.restartPython() to use updated packages.\u001B[0m\nRequirement already satisfied: xgboost in /local_disk0/.ephemeral_nfs/envs/pythonEnv-02e111d6-ce3d-4526-8992-9c9bcae493ea/lib/python3.10/site-packages (2.1.1)\nRequirement already satisfied: nvidia-nccl-cu12 in /local_disk0/.ephemeral_nfs/envs/pythonEnv-02e111d6-ce3d-4526-8992-9c9bcae493ea/lib/python3.10/site-packages (from xgboost) (2.22.3)\nRequirement already satisfied: numpy in /databricks/python3/lib/python3.10/site-packages (from xgboost) (1.23.5)\nRequirement already satisfied: scipy in /databricks/python3/lib/python3.10/site-packages (from xgboost) (1.10.0)\n\u001B[43mNote: you may need to restart the kernel using dbutils.library.restartPython() to use updated packages.\u001B[0m\n"
     ]
    }
   ],
   "source": [
    "!pip install imblearn\n",
    "!pip install xgboost\n"
   ]
  }
 ],
 "metadata": {
  "application/vnd.databricks.v1+notebook": {
   "dashboards": [],
   "environmentMetadata": null,
   "language": "python",
   "notebookMetadata": {
    "pythonIndentUnit": 4
   },
   "notebookName": "PFE",
   "widgets": {}
  }
 },
 "nbformat": 4,
 "nbformat_minor": 0
}
